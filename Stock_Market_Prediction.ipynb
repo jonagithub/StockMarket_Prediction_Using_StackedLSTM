{
 "cells": [
  {
   "cell_type": "markdown",
   "metadata": {},
   "source": [
    "# Stock Market Prediction and Forecasting Using Stacked LSTM"
   ]
  },
  {
   "cell_type": "markdown",
   "metadata": {},
   "source": [
    "#### Importing Libraries"
   ]
  },
  {
   "cell_type": "code",
   "execution_count": 1,
   "metadata": {},
   "outputs": [],
   "source": [
    "import numpy as np\n",
    "import pandas as pd\n",
    "import matplotlib.pyplot as plt"
   ]
  },
  {
   "cell_type": "markdown",
   "metadata": {},
   "source": [
    "#### Loading the datasets"
   ]
  },
  {
   "cell_type": "code",
   "execution_count": 2,
   "metadata": {},
   "outputs": [
    {
     "data": {
      "text/html": [
       "<div>\n",
       "<style scoped>\n",
       "    .dataframe tbody tr th:only-of-type {\n",
       "        vertical-align: middle;\n",
       "    }\n",
       "\n",
       "    .dataframe tbody tr th {\n",
       "        vertical-align: top;\n",
       "    }\n",
       "\n",
       "    .dataframe thead th {\n",
       "        text-align: right;\n",
       "    }\n",
       "</style>\n",
       "<table border=\"1\" class=\"dataframe\">\n",
       "  <thead>\n",
       "    <tr style=\"text-align: right;\">\n",
       "      <th></th>\n",
       "      <th>Date</th>\n",
       "      <th>Open</th>\n",
       "      <th>High</th>\n",
       "      <th>Low</th>\n",
       "      <th>Last</th>\n",
       "      <th>Close</th>\n",
       "      <th>Total Trade Quantity</th>\n",
       "      <th>Turnover (Lacs)</th>\n",
       "    </tr>\n",
       "  </thead>\n",
       "  <tbody>\n",
       "    <tr>\n",
       "      <th>0</th>\n",
       "      <td>2018-09-28</td>\n",
       "      <td>234.05</td>\n",
       "      <td>235.95</td>\n",
       "      <td>230.20</td>\n",
       "      <td>233.50</td>\n",
       "      <td>233.75</td>\n",
       "      <td>3069914</td>\n",
       "      <td>7162.35</td>\n",
       "    </tr>\n",
       "    <tr>\n",
       "      <th>1</th>\n",
       "      <td>2018-09-27</td>\n",
       "      <td>234.55</td>\n",
       "      <td>236.80</td>\n",
       "      <td>231.10</td>\n",
       "      <td>233.80</td>\n",
       "      <td>233.25</td>\n",
       "      <td>5082859</td>\n",
       "      <td>11859.95</td>\n",
       "    </tr>\n",
       "    <tr>\n",
       "      <th>2</th>\n",
       "      <td>2018-09-26</td>\n",
       "      <td>240.00</td>\n",
       "      <td>240.00</td>\n",
       "      <td>232.50</td>\n",
       "      <td>235.00</td>\n",
       "      <td>234.25</td>\n",
       "      <td>2240909</td>\n",
       "      <td>5248.60</td>\n",
       "    </tr>\n",
       "    <tr>\n",
       "      <th>3</th>\n",
       "      <td>2018-09-25</td>\n",
       "      <td>233.30</td>\n",
       "      <td>236.75</td>\n",
       "      <td>232.00</td>\n",
       "      <td>236.25</td>\n",
       "      <td>236.10</td>\n",
       "      <td>2349368</td>\n",
       "      <td>5503.90</td>\n",
       "    </tr>\n",
       "    <tr>\n",
       "      <th>4</th>\n",
       "      <td>2018-09-24</td>\n",
       "      <td>233.55</td>\n",
       "      <td>239.20</td>\n",
       "      <td>230.75</td>\n",
       "      <td>234.00</td>\n",
       "      <td>233.30</td>\n",
       "      <td>3423509</td>\n",
       "      <td>7999.55</td>\n",
       "    </tr>\n",
       "  </tbody>\n",
       "</table>\n",
       "</div>"
      ],
      "text/plain": [
       "         Date    Open    High     Low    Last   Close  Total Trade Quantity  \\\n",
       "0  2018-09-28  234.05  235.95  230.20  233.50  233.75               3069914   \n",
       "1  2018-09-27  234.55  236.80  231.10  233.80  233.25               5082859   \n",
       "2  2018-09-26  240.00  240.00  232.50  235.00  234.25               2240909   \n",
       "3  2018-09-25  233.30  236.75  232.00  236.25  236.10               2349368   \n",
       "4  2018-09-24  233.55  239.20  230.75  234.00  233.30               3423509   \n",
       "\n",
       "   Turnover (Lacs)  \n",
       "0          7162.35  \n",
       "1         11859.95  \n",
       "2          5248.60  \n",
       "3          5503.90  \n",
       "4          7999.55  "
      ]
     },
     "execution_count": 2,
     "metadata": {},
     "output_type": "execute_result"
    }
   ],
   "source": [
    "stock_df = pd.read_csv('NSE-TATAGLOBAL.csv')\n",
    "stock_df.head()"
   ]
  },
  {
   "cell_type": "markdown",
   "metadata": {},
   "source": [
    "#### Preprocess Data\n"
   ]
  },
  {
   "cell_type": "markdown",
   "metadata": {},
   "source": [
    "- Checking null values"
   ]
  },
  {
   "cell_type": "code",
   "execution_count": 3,
   "metadata": {},
   "outputs": [
    {
     "data": {
      "text/plain": [
       "Date                    0\n",
       "Open                    0\n",
       "High                    0\n",
       "Low                     0\n",
       "Last                    0\n",
       "Close                   0\n",
       "Total Trade Quantity    0\n",
       "Turnover (Lacs)         0\n",
       "dtype: int64"
      ]
     },
     "execution_count": 3,
     "metadata": {},
     "output_type": "execute_result"
    }
   ],
   "source": [
    "stock_df.isnull().sum()"
   ]
  },
  {
   "cell_type": "code",
   "execution_count": 4,
   "metadata": {},
   "outputs": [
    {
     "data": {
      "text/html": [
       "<div>\n",
       "<style scoped>\n",
       "    .dataframe tbody tr th:only-of-type {\n",
       "        vertical-align: middle;\n",
       "    }\n",
       "\n",
       "    .dataframe tbody tr th {\n",
       "        vertical-align: top;\n",
       "    }\n",
       "\n",
       "    .dataframe thead th {\n",
       "        text-align: right;\n",
       "    }\n",
       "</style>\n",
       "<table border=\"1\" class=\"dataframe\">\n",
       "  <thead>\n",
       "    <tr style=\"text-align: right;\">\n",
       "      <th></th>\n",
       "      <th>Open</th>\n",
       "      <th>High</th>\n",
       "      <th>Low</th>\n",
       "      <th>Last</th>\n",
       "      <th>Close</th>\n",
       "      <th>Total Trade Quantity</th>\n",
       "      <th>Turnover (Lacs)</th>\n",
       "    </tr>\n",
       "  </thead>\n",
       "  <tbody>\n",
       "    <tr>\n",
       "      <th>count</th>\n",
       "      <td>2035.000000</td>\n",
       "      <td>2035.000000</td>\n",
       "      <td>2035.000000</td>\n",
       "      <td>2035.000000</td>\n",
       "      <td>2035.00000</td>\n",
       "      <td>2.035000e+03</td>\n",
       "      <td>2035.000000</td>\n",
       "    </tr>\n",
       "    <tr>\n",
       "      <th>mean</th>\n",
       "      <td>149.713735</td>\n",
       "      <td>151.992826</td>\n",
       "      <td>147.293931</td>\n",
       "      <td>149.474251</td>\n",
       "      <td>149.45027</td>\n",
       "      <td>2.335681e+06</td>\n",
       "      <td>3899.980565</td>\n",
       "    </tr>\n",
       "    <tr>\n",
       "      <th>std</th>\n",
       "      <td>48.664509</td>\n",
       "      <td>49.413109</td>\n",
       "      <td>47.931958</td>\n",
       "      <td>48.732570</td>\n",
       "      <td>48.71204</td>\n",
       "      <td>2.091778e+06</td>\n",
       "      <td>4570.767877</td>\n",
       "    </tr>\n",
       "    <tr>\n",
       "      <th>min</th>\n",
       "      <td>81.100000</td>\n",
       "      <td>82.800000</td>\n",
       "      <td>80.000000</td>\n",
       "      <td>81.000000</td>\n",
       "      <td>80.95000</td>\n",
       "      <td>3.961000e+04</td>\n",
       "      <td>37.040000</td>\n",
       "    </tr>\n",
       "    <tr>\n",
       "      <th>25%</th>\n",
       "      <td>120.025000</td>\n",
       "      <td>122.100000</td>\n",
       "      <td>118.300000</td>\n",
       "      <td>120.075000</td>\n",
       "      <td>120.05000</td>\n",
       "      <td>1.146444e+06</td>\n",
       "      <td>1427.460000</td>\n",
       "    </tr>\n",
       "    <tr>\n",
       "      <th>50%</th>\n",
       "      <td>141.500000</td>\n",
       "      <td>143.400000</td>\n",
       "      <td>139.600000</td>\n",
       "      <td>141.100000</td>\n",
       "      <td>141.25000</td>\n",
       "      <td>1.783456e+06</td>\n",
       "      <td>2512.030000</td>\n",
       "    </tr>\n",
       "    <tr>\n",
       "      <th>75%</th>\n",
       "      <td>157.175000</td>\n",
       "      <td>159.400000</td>\n",
       "      <td>155.150000</td>\n",
       "      <td>156.925000</td>\n",
       "      <td>156.90000</td>\n",
       "      <td>2.813594e+06</td>\n",
       "      <td>4539.015000</td>\n",
       "    </tr>\n",
       "    <tr>\n",
       "      <th>max</th>\n",
       "      <td>327.700000</td>\n",
       "      <td>328.750000</td>\n",
       "      <td>321.650000</td>\n",
       "      <td>325.950000</td>\n",
       "      <td>325.75000</td>\n",
       "      <td>2.919102e+07</td>\n",
       "      <td>55755.080000</td>\n",
       "    </tr>\n",
       "  </tbody>\n",
       "</table>\n",
       "</div>"
      ],
      "text/plain": [
       "              Open         High          Low         Last       Close  \\\n",
       "count  2035.000000  2035.000000  2035.000000  2035.000000  2035.00000   \n",
       "mean    149.713735   151.992826   147.293931   149.474251   149.45027   \n",
       "std      48.664509    49.413109    47.931958    48.732570    48.71204   \n",
       "min      81.100000    82.800000    80.000000    81.000000    80.95000   \n",
       "25%     120.025000   122.100000   118.300000   120.075000   120.05000   \n",
       "50%     141.500000   143.400000   139.600000   141.100000   141.25000   \n",
       "75%     157.175000   159.400000   155.150000   156.925000   156.90000   \n",
       "max     327.700000   328.750000   321.650000   325.950000   325.75000   \n",
       "\n",
       "       Total Trade Quantity  Turnover (Lacs)  \n",
       "count          2.035000e+03      2035.000000  \n",
       "mean           2.335681e+06      3899.980565  \n",
       "std            2.091778e+06      4570.767877  \n",
       "min            3.961000e+04        37.040000  \n",
       "25%            1.146444e+06      1427.460000  \n",
       "50%            1.783456e+06      2512.030000  \n",
       "75%            2.813594e+06      4539.015000  \n",
       "max            2.919102e+07     55755.080000  "
      ]
     },
     "execution_count": 4,
     "metadata": {},
     "output_type": "execute_result"
    }
   ],
   "source": [
    "stock_df.describe()"
   ]
  },
  {
   "cell_type": "code",
   "execution_count": 5,
   "metadata": {},
   "outputs": [
    {
     "name": "stdout",
     "output_type": "stream",
     "text": [
      "<class 'pandas.core.frame.DataFrame'>\n",
      "RangeIndex: 2035 entries, 0 to 2034\n",
      "Data columns (total 8 columns):\n",
      " #   Column                Non-Null Count  Dtype  \n",
      "---  ------                --------------  -----  \n",
      " 0   Date                  2035 non-null   object \n",
      " 1   Open                  2035 non-null   float64\n",
      " 2   High                  2035 non-null   float64\n",
      " 3   Low                   2035 non-null   float64\n",
      " 4   Last                  2035 non-null   float64\n",
      " 5   Close                 2035 non-null   float64\n",
      " 6   Total Trade Quantity  2035 non-null   int64  \n",
      " 7   Turnover (Lacs)       2035 non-null   float64\n",
      "dtypes: float64(6), int64(1), object(1)\n",
      "memory usage: 127.3+ KB\n"
     ]
    }
   ],
   "source": [
    "stock_df.info()"
   ]
  },
  {
   "cell_type": "code",
   "execution_count": 6,
   "metadata": {},
   "outputs": [],
   "source": [
    "stock_df['Date'] = pd.to_datetime(stock_df['Date'])"
   ]
  },
  {
   "cell_type": "code",
   "execution_count": 7,
   "metadata": {},
   "outputs": [
    {
     "name": "stdout",
     "output_type": "stream",
     "text": [
      "<class 'pandas.core.frame.DataFrame'>\n",
      "RangeIndex: 2035 entries, 0 to 2034\n",
      "Data columns (total 8 columns):\n",
      " #   Column                Non-Null Count  Dtype         \n",
      "---  ------                --------------  -----         \n",
      " 0   Date                  2035 non-null   datetime64[ns]\n",
      " 1   Open                  2035 non-null   float64       \n",
      " 2   High                  2035 non-null   float64       \n",
      " 3   Low                   2035 non-null   float64       \n",
      " 4   Last                  2035 non-null   float64       \n",
      " 5   Close                 2035 non-null   float64       \n",
      " 6   Total Trade Quantity  2035 non-null   int64         \n",
      " 7   Turnover (Lacs)       2035 non-null   float64       \n",
      "dtypes: datetime64[ns](1), float64(6), int64(1)\n",
      "memory usage: 127.3 KB\n"
     ]
    }
   ],
   "source": [
    "stock_df.info()"
   ]
  },
  {
   "cell_type": "code",
   "execution_count": 8,
   "metadata": {},
   "outputs": [],
   "source": [
    "stock_df.sort_values(by=[\"Date\"], inplace=True, ascending=True)\n"
   ]
  },
  {
   "cell_type": "markdown",
   "metadata": {},
   "source": [
    "- Converting the date column to datetime format is essential for several reasons when working with time series data:\n",
    "\n",
    "- Proper Time Handling: Datetime format allows for consistent and reliable time handling. It ensures that date-related operations, such as time-based filtering, sorting, and aggregation, work correctly and produce accurate results.\n",
    "\n",
    "- Time-Based Indexing: When the date column is in datetime format, it can be used as the index for the DataFrame. Time-based indexing is beneficial for slicing and selecting specific time periods easily.\n",
    "\n",
    "- Time Series Plots: Datetime format enables proper time axis labeling in plots, making it easier to interpret and visualize the data over time.\n",
    "\n",
    "- Resampling and Frequency Conversion: Datetime format is essential when performing resampling or frequency conversion operations. These operations are common in time series analysis, and they involve changing the frequency of data, such as converting daily data to monthly or weekly data.\n",
    "\n",
    "- Date Arithmetic: Datetime format allows for date arithmetic, making it convenient to calculate time differences or perform time-based calculations.\n",
    "\n",
    "- Handling Time Zones: Datetime format supports time zone information, which can be crucial when dealing with data from different time zones or when performing time zone conversions.\n",
    "\n",
    "- Interoperability: Datetime format is widely used in various Python libraries and tools for time series analysis, such as pandas, NumPy, Matplotlib, and more. Converting to datetime format ensures better interoperability with these libraries.\n",
    "\n",
    "- Overall, using the datetime format for the date column in time series data ensures that the data is correctly interpreted and handled with respect to time, enabling more accurate analysis and modeling."
   ]
  },
  {
   "cell_type": "code",
   "execution_count": 9,
   "metadata": {},
   "outputs": [
    {
     "data": {
      "text/plain": [
       "2034   2010-07-21\n",
       "2033   2010-07-22\n",
       "2032   2010-07-23\n",
       "2031   2010-07-26\n",
       "2030   2010-07-27\n",
       "2029   2010-07-28\n",
       "2028   2010-07-29\n",
       "2027   2010-07-30\n",
       "2026   2010-08-02\n",
       "2025   2010-08-03\n",
       "2024   2010-08-04\n",
       "2023   2010-08-05\n",
       "2022   2010-08-06\n",
       "2021   2010-08-09\n",
       "2020   2010-08-10\n",
       "2019   2010-08-11\n",
       "2018   2010-08-12\n",
       "2017   2010-08-13\n",
       "2016   2010-08-16\n",
       "2015   2010-08-17\n",
       "2014   2010-08-18\n",
       "2013   2010-08-19\n",
       "2012   2010-08-20\n",
       "2011   2010-08-23\n",
       "2010   2010-08-24\n",
       "2009   2010-08-25\n",
       "2008   2010-08-26\n",
       "2007   2010-08-27\n",
       "2006   2010-08-30\n",
       "2005   2010-08-31\n",
       "2004   2010-09-01\n",
       "2003   2010-09-02\n",
       "2002   2010-09-03\n",
       "2001   2010-09-06\n",
       "2000   2010-09-07\n",
       "1999   2010-09-08\n",
       "1998   2010-09-09\n",
       "1997   2010-09-13\n",
       "1996   2010-09-14\n",
       "1995   2010-09-15\n",
       "1994   2010-09-16\n",
       "1993   2010-09-17\n",
       "1992   2010-09-20\n",
       "1991   2010-09-21\n",
       "1990   2010-09-22\n",
       "1989   2010-09-23\n",
       "1988   2010-09-24\n",
       "1987   2010-09-27\n",
       "1986   2010-09-28\n",
       "1985   2010-09-29\n",
       "Name: Date, dtype: datetime64[ns]"
      ]
     },
     "execution_count": 9,
     "metadata": {},
     "output_type": "execute_result"
    }
   ],
   "source": [
    "stock_df.Date.head(50)"
   ]
  },
  {
   "cell_type": "code",
   "execution_count": 10,
   "metadata": {},
   "outputs": [
    {
     "data": {
      "text/html": [
       "<div>\n",
       "<style scoped>\n",
       "    .dataframe tbody tr th:only-of-type {\n",
       "        vertical-align: middle;\n",
       "    }\n",
       "\n",
       "    .dataframe tbody tr th {\n",
       "        vertical-align: top;\n",
       "    }\n",
       "\n",
       "    .dataframe thead th {\n",
       "        text-align: right;\n",
       "    }\n",
       "</style>\n",
       "<table border=\"1\" class=\"dataframe\">\n",
       "  <thead>\n",
       "    <tr style=\"text-align: right;\">\n",
       "      <th></th>\n",
       "      <th>Date</th>\n",
       "      <th>Open</th>\n",
       "      <th>High</th>\n",
       "      <th>Low</th>\n",
       "      <th>Last</th>\n",
       "      <th>Close</th>\n",
       "      <th>Total Trade Quantity</th>\n",
       "      <th>Turnover (Lacs)</th>\n",
       "    </tr>\n",
       "  </thead>\n",
       "  <tbody>\n",
       "    <tr>\n",
       "      <th>2034</th>\n",
       "      <td>2010-07-21</td>\n",
       "      <td>122.1</td>\n",
       "      <td>123.00</td>\n",
       "      <td>121.05</td>\n",
       "      <td>121.10</td>\n",
       "      <td>121.55</td>\n",
       "      <td>658666</td>\n",
       "      <td>803.56</td>\n",
       "    </tr>\n",
       "    <tr>\n",
       "      <th>2033</th>\n",
       "      <td>2010-07-22</td>\n",
       "      <td>120.3</td>\n",
       "      <td>122.00</td>\n",
       "      <td>120.25</td>\n",
       "      <td>120.75</td>\n",
       "      <td>120.90</td>\n",
       "      <td>293312</td>\n",
       "      <td>355.17</td>\n",
       "    </tr>\n",
       "    <tr>\n",
       "      <th>2032</th>\n",
       "      <td>2010-07-23</td>\n",
       "      <td>121.8</td>\n",
       "      <td>121.95</td>\n",
       "      <td>120.25</td>\n",
       "      <td>120.35</td>\n",
       "      <td>120.65</td>\n",
       "      <td>281312</td>\n",
       "      <td>340.31</td>\n",
       "    </tr>\n",
       "    <tr>\n",
       "      <th>2031</th>\n",
       "      <td>2010-07-26</td>\n",
       "      <td>120.1</td>\n",
       "      <td>121.00</td>\n",
       "      <td>117.10</td>\n",
       "      <td>117.10</td>\n",
       "      <td>117.60</td>\n",
       "      <td>658440</td>\n",
       "      <td>780.01</td>\n",
       "    </tr>\n",
       "    <tr>\n",
       "      <th>2030</th>\n",
       "      <td>2010-07-27</td>\n",
       "      <td>117.6</td>\n",
       "      <td>119.50</td>\n",
       "      <td>112.00</td>\n",
       "      <td>118.80</td>\n",
       "      <td>118.65</td>\n",
       "      <td>586100</td>\n",
       "      <td>694.98</td>\n",
       "    </tr>\n",
       "  </tbody>\n",
       "</table>\n",
       "</div>"
      ],
      "text/plain": [
       "           Date   Open    High     Low    Last   Close  Total Trade Quantity  \\\n",
       "2034 2010-07-21  122.1  123.00  121.05  121.10  121.55                658666   \n",
       "2033 2010-07-22  120.3  122.00  120.25  120.75  120.90                293312   \n",
       "2032 2010-07-23  121.8  121.95  120.25  120.35  120.65                281312   \n",
       "2031 2010-07-26  120.1  121.00  117.10  117.10  117.60                658440   \n",
       "2030 2010-07-27  117.6  119.50  112.00  118.80  118.65                586100   \n",
       "\n",
       "      Turnover (Lacs)  \n",
       "2034           803.56  \n",
       "2033           355.17  \n",
       "2032           340.31  \n",
       "2031           780.01  \n",
       "2030           694.98  "
      ]
     },
     "execution_count": 10,
     "metadata": {},
     "output_type": "execute_result"
    }
   ],
   "source": [
    "stock_df.head()"
   ]
  },
  {
   "cell_type": "code",
   "execution_count": 11,
   "metadata": {},
   "outputs": [],
   "source": [
    "stock_df.reset_index(inplace=True)"
   ]
  },
  {
   "cell_type": "code",
   "execution_count": 12,
   "metadata": {},
   "outputs": [
    {
     "data": {
      "text/html": [
       "<div>\n",
       "<style scoped>\n",
       "    .dataframe tbody tr th:only-of-type {\n",
       "        vertical-align: middle;\n",
       "    }\n",
       "\n",
       "    .dataframe tbody tr th {\n",
       "        vertical-align: top;\n",
       "    }\n",
       "\n",
       "    .dataframe thead th {\n",
       "        text-align: right;\n",
       "    }\n",
       "</style>\n",
       "<table border=\"1\" class=\"dataframe\">\n",
       "  <thead>\n",
       "    <tr style=\"text-align: right;\">\n",
       "      <th></th>\n",
       "      <th>index</th>\n",
       "      <th>Date</th>\n",
       "      <th>Open</th>\n",
       "      <th>High</th>\n",
       "      <th>Low</th>\n",
       "      <th>Last</th>\n",
       "      <th>Close</th>\n",
       "      <th>Total Trade Quantity</th>\n",
       "      <th>Turnover (Lacs)</th>\n",
       "    </tr>\n",
       "  </thead>\n",
       "  <tbody>\n",
       "    <tr>\n",
       "      <th>0</th>\n",
       "      <td>2034</td>\n",
       "      <td>2010-07-21</td>\n",
       "      <td>122.1</td>\n",
       "      <td>123.00</td>\n",
       "      <td>121.05</td>\n",
       "      <td>121.10</td>\n",
       "      <td>121.55</td>\n",
       "      <td>658666</td>\n",
       "      <td>803.56</td>\n",
       "    </tr>\n",
       "    <tr>\n",
       "      <th>1</th>\n",
       "      <td>2033</td>\n",
       "      <td>2010-07-22</td>\n",
       "      <td>120.3</td>\n",
       "      <td>122.00</td>\n",
       "      <td>120.25</td>\n",
       "      <td>120.75</td>\n",
       "      <td>120.90</td>\n",
       "      <td>293312</td>\n",
       "      <td>355.17</td>\n",
       "    </tr>\n",
       "    <tr>\n",
       "      <th>2</th>\n",
       "      <td>2032</td>\n",
       "      <td>2010-07-23</td>\n",
       "      <td>121.8</td>\n",
       "      <td>121.95</td>\n",
       "      <td>120.25</td>\n",
       "      <td>120.35</td>\n",
       "      <td>120.65</td>\n",
       "      <td>281312</td>\n",
       "      <td>340.31</td>\n",
       "    </tr>\n",
       "    <tr>\n",
       "      <th>3</th>\n",
       "      <td>2031</td>\n",
       "      <td>2010-07-26</td>\n",
       "      <td>120.1</td>\n",
       "      <td>121.00</td>\n",
       "      <td>117.10</td>\n",
       "      <td>117.10</td>\n",
       "      <td>117.60</td>\n",
       "      <td>658440</td>\n",
       "      <td>780.01</td>\n",
       "    </tr>\n",
       "    <tr>\n",
       "      <th>4</th>\n",
       "      <td>2030</td>\n",
       "      <td>2010-07-27</td>\n",
       "      <td>117.6</td>\n",
       "      <td>119.50</td>\n",
       "      <td>112.00</td>\n",
       "      <td>118.80</td>\n",
       "      <td>118.65</td>\n",
       "      <td>586100</td>\n",
       "      <td>694.98</td>\n",
       "    </tr>\n",
       "  </tbody>\n",
       "</table>\n",
       "</div>"
      ],
      "text/plain": [
       "   index       Date   Open    High     Low    Last   Close  \\\n",
       "0   2034 2010-07-21  122.1  123.00  121.05  121.10  121.55   \n",
       "1   2033 2010-07-22  120.3  122.00  120.25  120.75  120.90   \n",
       "2   2032 2010-07-23  121.8  121.95  120.25  120.35  120.65   \n",
       "3   2031 2010-07-26  120.1  121.00  117.10  117.10  117.60   \n",
       "4   2030 2010-07-27  117.6  119.50  112.00  118.80  118.65   \n",
       "\n",
       "   Total Trade Quantity  Turnover (Lacs)  \n",
       "0                658666           803.56  \n",
       "1                293312           355.17  \n",
       "2                281312           340.31  \n",
       "3                658440           780.01  \n",
       "4                586100           694.98  "
      ]
     },
     "execution_count": 12,
     "metadata": {},
     "output_type": "execute_result"
    }
   ],
   "source": [
    "stock_df.head()"
   ]
  },
  {
   "cell_type": "markdown",
   "metadata": {},
   "source": [
    "# Data Visualization\n",
    "- Plotting the graph for the Date and Close"
   ]
  },
  {
   "cell_type": "markdown",
   "metadata": {},
   "source": [
    "- plt.figure(figsize=(10, 7))\n",
    "- plt.plot('Date', 'Close', data=stock_df, label='Close Price', color='blue')\n",
    "- plt.xlabel('Date')\n",
    "- plt.ylabel('Close Price')\n",
    "- plt.title('Stock Close Price Over Time')\n",
    "- plt.legend()\n",
    "- plt.show()"
   ]
  },
  {
   "cell_type": "code",
   "execution_count": 13,
   "metadata": {},
   "outputs": [
    {
     "data": {
      "image/png": "[encoded data removed]",
      "text/plain": [
       "<Figure size 720x504 with 1 Axes>"
      ]
     },
     "metadata": {
      "needs_background": "light"
     },
     "output_type": "display_data"
    }
   ],
   "source": [
    "plt.figure(figsize=(10, 7))\n",
    "plt.plot(stock_df['Date'], stock_df['Close'], label='Close Price', color='blue')\n",
    "plt.xlabel('Date')\n",
    "plt.ylabel('Close Price')\n",
    "plt.title('Stock Close Price Over Time')\n",
    "plt.legend()\n",
    "plt.show()"
   ]
  },
  {
   "cell_type": "code",
   "execution_count": 14,
   "metadata": {},
   "outputs": [
    {
     "data": {
      "text/plain": [
       "0       121.55\n",
       "1       120.90\n",
       "2       120.65\n",
       "3       117.60\n",
       "4       118.65\n",
       "         ...  \n",
       "2030    233.30\n",
       "2031    236.10\n",
       "2032    234.25\n",
       "2033    233.25\n",
       "2034    233.75\n",
       "Name: Close, Length: 2035, dtype: float64"
      ]
     },
     "execution_count": 14,
     "metadata": {},
     "output_type": "execute_result"
    }
   ],
   "source": [
    "close_stock_df = stock_df['Close']\n",
    "close_stock_df"
   ]
  },
  {
   "cell_type": "markdown",
   "metadata": {},
   "source": [
    "#### Feature Scaling(MinMax Scaler)\n",
    "- Preprocessing step when working with neural networks like LSTM to improve convergence(When features are on the same scale, the optimizer can efficiently update the model's weights, leading to faster convergence to an optimal solution.), stability, and overall model performance.\n",
    "\n",
    "- Efficient Numerical Computations: Normalizing features to a range between 0 and 1 or -1 and 1 can improve numerical stability in computations, especially when using activation functions like sigmoid or tanh in LSTMs.\n",
    "\n",
    "- When the input features have different ranges, some features might dominate the learning process, while others might have a negligible impact. By normalizing the features to a common scale, each feature contributes equally to the learning process, preventing one feature from overpowering others."
   ]
  },
  {
   "cell_type": "markdown",
   "metadata": {},
   "source": [
    "- scaler = MinMaxScaler(feature_range=(0,1)) \n",
    "- close_stock_df = scaler.fit_transform(np.array(close_stock_df).reshape(-1, 1))\n",
    "- close_stock_df"
   ]
  },
  {
   "cell_type": "markdown",
   "metadata": {},
   "source": [
    "- reshape(-1, 1) operation converts the 1-dimensional array into a 2-dimensional array (specifically, a column vector). This is necessary because scikit-learn's MinMaxScaler expects a 2-dimensional array as input."
   ]
  },
  {
   "cell_type": "code",
   "execution_count": 15,
   "metadata": {},
   "outputs": [
    {
     "data": {
      "text/plain": [
       "array([[0.16584967],\n",
       "       [0.16319444],\n",
       "       [0.1621732 ],\n",
       "       ...,\n",
       "       [0.62622549],\n",
       "       [0.62214052],\n",
       "       [0.62418301]])"
      ]
     },
     "execution_count": 15,
     "metadata": {},
     "output_type": "execute_result"
    }
   ],
   "source": [
    "from sklearn.preprocessing import MinMaxScaler\n",
    "# Create a MinMaxScaler object and specify the feature range (0 to 1)\n",
    "scaler = MinMaxScaler(feature_range=(0,1)) \n",
    "# Convert the 'Close' prices to a 2-dimensional array for MinMaxScaler\n",
    "close_stock_df = np.array(close_stock_df).reshape(-1, 1)\n",
    "# Apply the MinMaxScaler to normalize the 'Close' prices\n",
    "close_stock_df = scaler.fit_transform(close_stock_df)\n",
    "close_stock_df"
   ]
  },
  {
   "cell_type": "markdown",
   "metadata": {},
   "source": [
    "#### Splitting the dataset"
   ]
  },
  {
   "cell_type": "code",
   "execution_count": 16,
   "metadata": {},
   "outputs": [],
   "source": [
    "# Calculate the size of the training set (70% of the data)\n",
    "train_size = int(len(close_stock_df) * 0.7)\n",
    "\n",
    "# Calculate the size of the testing set (30% of the data)\n",
    "test_size = len(close_stock_df) - train_size\n",
    "\n",
    "# Split the data into training and testing sets\n",
    "# 'train_data' will contain the first 'train_size' rows of 'close_stock_df'\n",
    "train_data = close_stock_df[0:train_size, :]\n",
    "\n",
    "# 'test_data' will contain the remaining rows after the training set\n",
    "# Specifically, it will contain the last 'test_size' rows of 'close_stock_df' in a 2D column vector format\n",
    "test_data = close_stock_df[train_size:len(close_stock_df), :1]\n"
   ]
  },
  {
   "cell_type": "markdown",
   "metadata": {},
   "source": [
    "- close_stock_df[0:train_size, :] selects the rows from index 0 to train_size-1 (exclusive) of close_stock_df. The : in the second position indicates that we want to include all columns, effectively selecting all columns for the selected rows.\n",
    "\n",
    "- train_data will be a 2-dimensional array containing the normalized closing prices for the training period. It includes the first train_size rows and all columns from close_stock_df.\n",
    "\n",
    "- After this slicing, you can use train_data to train your LSTM or any other time series model. It contains the normalized closing prices for the training period, which you can use to build and train the model.\n",
    "\n",
    "- close_stock_df[train_size:len(close_stock_df), :1] is used to slice the data and create the testing set (test_data).\n",
    "\n",
    "-  The colon : after train_size indicates that we want to select all rows starting from the train_size index and going up to the end of the array (last row). This creates a new 2-dimensional array that includes all rows from the train_size index to the end of the DataFrame, representing the testing set.\n",
    "\n",
    "- ':1'  The colon : before 1 is used to specify the slicing for columns. In this case, it means we want to include only the first column of the 2-dimensional array obtained from the previous step. The result will be a 2-dimensional column vector.\n",
    "\n",
    "- To summarize, after this slicing, test_data will be a 2-dimensional array (column vector) containing the normalized closing prices for the testing period. It includes all rows from index train_size to the last row of close_stock_df, and only the first column (representing the \"Close\" prices) is included. This testing set can be used to evaluate the performance of the LSTM or any other time series model on unseen data.\n",
    "  \n"
   ]
  },
  {
   "cell_type": "code",
   "execution_count": 17,
   "metadata": {},
   "outputs": [
    {
     "data": {
      "text/plain": [
       "(1424, 1)"
      ]
     },
     "execution_count": 17,
     "metadata": {},
     "output_type": "execute_result"
    }
   ],
   "source": [
    "train_data.shape"
   ]
  },
  {
   "cell_type": "code",
   "execution_count": 18,
   "metadata": {},
   "outputs": [
    {
     "data": {
      "text/plain": [
       "(611, 1)"
      ]
     },
     "execution_count": 18,
     "metadata": {},
     "output_type": "execute_result"
    }
   ],
   "source": [
    "test_data.shape"
   ]
  },
  {
   "cell_type": "markdown",
   "metadata": {},
   "source": [
    "- For this LSTM, we are using previous closing price as the input of the data and using n number of previous price 'X' we give out put to n+1 closing price as the 'Y' of the data"
   ]
  },
  {
   "cell_type": "code",
   "execution_count": 21,
   "metadata": {},
   "outputs": [],
   "source": [
    "# Create input and target sequences for the LSTM model\n",
    "def create_dataset(dataset, time_step=1):\n",
    "    dataX, dataY = [], []\n",
    "    for i in range(len(dataset) - time_step - 1):\n",
    "        a = dataset[i:(i + time_step), 0]\n",
    "        dataX.append(a)\n",
    "        dataY.append(dataset[i + time_step, 0])\n",
    "    return np.array(dataX), np.array(dataY)\n"
   ]
  },
  {
   "cell_type": "markdown",
   "metadata": {},
   "source": [
    "- This function is used to create input sequences and target labels for time series forecasting using an LSTM or any other machine learning model.\n",
    "\n",
    "- dataset: This is the input time series data, typically represented as a 2-dimensional numpy array. The function expects that the time series data is organized such that the time steps are in the rows and features (if any) are in the columns.\n",
    "\n",
    "- time_step: This parameter determines the number of time steps to consider for each input sequence. It's an optional parameter with a default value of 1, meaning the function will use adjacent time steps to create input sequences.\n",
    "\n",
    "- Here's how the function works:\n",
    "\n",
    "- dataX, dataY: These are empty lists that will be used to store the input sequences (dataX) and their corresponding target labels (dataY).\n",
    "\n",
    "- for i in range(len(dataset) - time_step - 1): This loop iterates over the time steps in the dataset, excluding the last time_step + 1 time steps. The reason for excluding the last time steps is that we need enough data to create a complete input sequence with time_step time steps and a corresponding target label.\n",
    "\n",
    "- a = dataset[i:(i + time_step), 0]: In each iteration of the loop, a subsequence of time_step time steps is extracted from the dataset starting at index i. The dataset[i:(i + time_step), 0] syntax selects the first column (column index 0) of the subsequence. This a will be an input sequence of length time_step.\n",
    "\n",
    "- dataX.append(a): The input sequence a is added to the list dataX, which collects all the input sequences.\n",
    "\n",
    "- dataY.append(dataset[i + time_step, 0]): The corresponding target label is extracted from the dataset at the time step immediately following the input sequence. This target label represents the value to be predicted by the model.\n",
    "\n",
    "- After the loop, the function returns two numpy arrays: dataX (containing input sequences) and dataY (containing target labels).\n",
    "\n",
    "- Overall, this function takes a time series dataset and a specified time_step to create input sequences and target labels. These sequences and labels can be used to train a time series forecasting model such as an LSTM. The number of input sequences created depends on the length of the dataset and the time_step parameter."
   ]
  },
  {
   "cell_type": "code",
   "execution_count": 22,
   "metadata": {},
   "outputs": [],
   "source": [
    "# Set the value of 'time_step'\n",
    "time_step = 100\n",
    "\n",
    "# Create training sequences and target labels using 'train_data'\n",
    "X_train, y_train = create_dataset(train_data, time_step)\n",
    "\n",
    "# Create testing sequences and target labels using 'test_data'\n",
    "X_test, y_test = create_dataset(test_data, time_step)\n"
   ]
  },
  {
   "cell_type": "code",
   "execution_count": 23,
   "metadata": {},
   "outputs": [
    {
     "name": "stdout",
     "output_type": "stream",
     "text": [
      "(1323, 100)\n",
      "(1323,)\n"
     ]
    },
    {
     "data": {
      "text/plain": [
       "(None, None)"
      ]
     },
     "execution_count": 23,
     "metadata": {},
     "output_type": "execute_result"
    }
   ],
   "source": [
    "\n",
    "print(X_train.shape), print(y_train.shape)"
   ]
  },
  {
   "cell_type": "code",
   "execution_count": 24,
   "metadata": {},
   "outputs": [
    {
     "name": "stdout",
     "output_type": "stream",
     "text": [
      "(510, 100)\n",
      "(510,)\n"
     ]
    },
    {
     "data": {
      "text/plain": [
       "(None, None)"
      ]
     },
     "execution_count": 24,
     "metadata": {},
     "output_type": "execute_result"
    }
   ],
   "source": [
    "print(X_test.shape), print(y_test.shape)"
   ]
  },
  {
   "cell_type": "markdown",
   "metadata": {},
   "source": [
    "#### Reshaping of dataset\n",
    "- We always have to give a 3-dimensional array as an input to LSTM network, where the first-dimension represents the batch size, the second dimension represents the number of time-steps feeding a sequence and the third dimension represents the number of units in one input sequence\n",
    "\n",
    "- For e.g, input shape looks like (batch_size) or sample, time_steps and sequence_length or n_features\n",
    "\n",
    "- if X = [[1,2,3],[4,5,6],[7,8,9],[10,11,12]]\n",
    "- then (batch_size) or sample = 4, time_steps = 4 and sequence_length or n_features = 3\n"
   ]
  },
  {
   "cell_type": "code",
   "execution_count": 25,
   "metadata": {},
   "outputs": [],
   "source": [
    "X_train =X_train.reshape(X_train.shape[0],X_train.shape[1] , 1)\n",
    "X_test = X_test.reshape(X_test.shape[0],X_test.shape[1] , 1)"
   ]
  },
  {
   "cell_type": "code",
   "execution_count": 26,
   "metadata": {},
   "outputs": [
    {
     "data": {
      "text/plain": [
       "array([[[0.16584967],\n",
       "        [0.16319444],\n",
       "        [0.1621732 ],\n",
       "        ...,\n",
       "        [0.14011438],\n",
       "        [0.13848039],\n",
       "        [0.12479575]],\n",
       "\n",
       "       [[0.16319444],\n",
       "        [0.1621732 ],\n",
       "        [0.14971405],\n",
       "        ...,\n",
       "        [0.13848039],\n",
       "        [0.12479575],\n",
       "        [0.12254902]],\n",
       "\n",
       "       [[0.1621732 ],\n",
       "        [0.14971405],\n",
       "        [0.15400327],\n",
       "        ...,\n",
       "        [0.12479575],\n",
       "        [0.12254902],\n",
       "        [0.13010621]],\n",
       "\n",
       "       ...,\n",
       "\n",
       "       [[0.18280229],\n",
       "        [0.19178922],\n",
       "        [0.19219771],\n",
       "        ...,\n",
       "        [0.16441993],\n",
       "        [0.15236928],\n",
       "        [0.15482026]],\n",
       "\n",
       "       [[0.19178922],\n",
       "        [0.19219771],\n",
       "        [0.19281046],\n",
       "        ...,\n",
       "        [0.15236928],\n",
       "        [0.15482026],\n",
       "        [0.15420752]],\n",
       "\n",
       "       [[0.19219771],\n",
       "        [0.19281046],\n",
       "        [0.21058007],\n",
       "        ...,\n",
       "        [0.15482026],\n",
       "        [0.15420752],\n",
       "        [0.15012255]]])"
      ]
     },
     "execution_count": 26,
     "metadata": {},
     "output_type": "execute_result"
    }
   ],
   "source": [
    "X_train"
   ]
  },
  {
   "cell_type": "code",
   "execution_count": 27,
   "metadata": {},
   "outputs": [
    {
     "data": {
      "text/plain": [
       "array([[[0.1621732 ],\n",
       "        [0.15951797],\n",
       "        [0.16707516],\n",
       "        ...,\n",
       "        [0.24775327],\n",
       "        [0.24836601],\n",
       "        [0.25020425]],\n",
       "\n",
       "       [[0.15951797],\n",
       "        [0.16707516],\n",
       "        [0.15992647],\n",
       "        ...,\n",
       "        [0.24836601],\n",
       "        [0.25020425],\n",
       "        [0.25020425]],\n",
       "\n",
       "       [[0.16707516],\n",
       "        [0.15992647],\n",
       "        [0.16053922],\n",
       "        ...,\n",
       "        [0.25020425],\n",
       "        [0.25020425],\n",
       "        [0.23999183]],\n",
       "\n",
       "       ...,\n",
       "\n",
       "       [[0.86519608],\n",
       "        [0.84027778],\n",
       "        [0.84497549],\n",
       "        ...,\n",
       "        [0.62888072],\n",
       "        [0.62765523],\n",
       "        [0.62234477]],\n",
       "\n",
       "       [[0.84027778],\n",
       "        [0.84497549],\n",
       "        [0.87111928],\n",
       "        ...,\n",
       "        [0.62765523],\n",
       "        [0.62234477],\n",
       "        [0.63378268]],\n",
       "\n",
       "       [[0.84497549],\n",
       "        [0.87111928],\n",
       "        [0.85273693],\n",
       "        ...,\n",
       "        [0.62234477],\n",
       "        [0.63378268],\n",
       "        [0.62622549]]])"
      ]
     },
     "execution_count": 27,
     "metadata": {},
     "output_type": "execute_result"
    }
   ],
   "source": [
    "X_test"
   ]
  },
  {
   "cell_type": "markdown",
   "metadata": {},
   "source": [
    "#### Creating the stacked LSTM Model"
   ]
  },
  {
   "cell_type": "code",
   "execution_count": 28,
   "metadata": {},
   "outputs": [],
   "source": [
    "import tensorflow as tf\n",
    "from tensorflow.keras.models import Sequential\n",
    "from tensorflow.keras.layers import Dense\n",
    "from tensorflow.keras.layers import LSTM"
   ]
  },
  {
   "cell_type": "code",
   "execution_count": 29,
   "metadata": {},
   "outputs": [],
   "source": [
    "#Creating the LSTM model\n",
    "model=Sequential()\n",
    "# Optionally, the first layer can receive an `input_shape` argument\n",
    "model.add(LSTM(50,return_sequences=True,input_shape=(100,1)))\n",
    "\n",
    "# Inner layer\n",
    "model.add(LSTM(50,return_sequences=True))\n",
    "model.add(LSTM(50))\n",
    "\n",
    "# Output layer\n",
    "model.add(Dense(1))\n",
    "model.compile(loss='mean_squared_error',optimizer='adam')"
   ]
  },
  {
   "cell_type": "code",
   "execution_count": 30,
   "metadata": {},
   "outputs": [
    {
     "name": "stdout",
     "output_type": "stream",
     "text": [
      "Model: \"sequential\"\n",
      "_________________________________________________________________\n",
      " Layer (type)                Output Shape              Param #   \n",
      "=================================================================\n",
      " lstm (LSTM)                 (None, 100, 50)           10400     \n",
      "                                                                 \n",
      " lstm_1 (LSTM)               (None, 100, 50)           20200     \n",
      "                                                                 \n",
      " lstm_2 (LSTM)               (None, 50)                20200     \n",
      "                                                                 \n",
      " dense (Dense)               (None, 1)                 51        \n",
      "                                                                 \n",
      "=================================================================\n",
      "Total params: 50851 (198.64 KB)\n",
      "Trainable params: 50851 (198.64 KB)\n",
      "Non-trainable params: 0 (0.00 Byte)\n",
      "_________________________________________________________________\n"
     ]
    }
   ],
   "source": [
    "model.summary()"
   ]
  },
  {
   "cell_type": "markdown",
   "metadata": {},
   "source": [
    "#### Prediction and Checking Performance"
   ]
  },
  {
   "cell_type": "code",
   "execution_count": 31,
   "metadata": {},
   "outputs": [
    {
     "name": "stdout",
     "output_type": "stream",
     "text": [
      "Epoch 1/60\n",
      "19/19 [==============================] - 19s 437ms/step - loss: 0.0135 - val_loss: 0.0014\n",
      "Epoch 2/60\n",
      "19/19 [==============================] - 5s 271ms/step - loss: 0.0023 - val_loss: 0.0015\n",
      "Epoch 3/60\n",
      "19/19 [==============================] - 5s 242ms/step - loss: 0.0012 - val_loss: 0.0013\n",
      "Epoch 4/60\n",
      "19/19 [==============================] - 5s 267ms/step - loss: 9.6647e-04 - val_loss: 0.0012\n",
      "Epoch 5/60\n",
      "19/19 [==============================] - 5s 279ms/step - loss: 8.6632e-04 - val_loss: 0.0013\n",
      "Epoch 6/60\n",
      "19/19 [==============================] - 5s 276ms/step - loss: 8.4464e-04 - val_loss: 0.0011\n",
      "Epoch 7/60\n",
      "19/19 [==============================] - 5s 275ms/step - loss: 8.1334e-04 - val_loss: 0.0011\n",
      "Epoch 8/60\n",
      "19/19 [==============================] - 5s 274ms/step - loss: 8.0007e-04 - val_loss: 0.0011\n",
      "Epoch 9/60\n",
      "19/19 [==============================] - 5s 278ms/step - loss: 7.5985e-04 - val_loss: 9.9294e-04\n",
      "Epoch 10/60\n",
      "19/19 [==============================] - 5s 283ms/step - loss: 7.6560e-04 - val_loss: 9.4343e-04\n",
      "Epoch 11/60\n",
      "19/19 [==============================] - 5s 284ms/step - loss: 7.2249e-04 - val_loss: 9.6232e-04\n",
      "Epoch 12/60\n",
      "19/19 [==============================] - 5s 282ms/step - loss: 7.1423e-04 - val_loss: 8.7640e-04\n",
      "Epoch 13/60\n",
      "19/19 [==============================] - 5s 281ms/step - loss: 7.1199e-04 - val_loss: 8.4702e-04\n",
      "Epoch 14/60\n",
      "19/19 [==============================] - 5s 284ms/step - loss: 6.9527e-04 - val_loss: 8.4947e-04\n",
      "Epoch 15/60\n",
      "19/19 [==============================] - 5s 275ms/step - loss: 6.8212e-04 - val_loss: 8.0992e-04\n",
      "Epoch 16/60\n",
      "19/19 [==============================] - 5s 266ms/step - loss: 6.2530e-04 - val_loss: 7.6735e-04\n",
      "Epoch 17/60\n",
      "19/19 [==============================] - 5s 279ms/step - loss: 6.3088e-04 - val_loss: 7.1984e-04\n",
      "Epoch 18/60\n",
      "19/19 [==============================] - 5s 271ms/step - loss: 6.1876e-04 - val_loss: 7.1980e-04\n",
      "Epoch 19/60\n",
      "19/19 [==============================] - 5s 278ms/step - loss: 6.0478e-04 - val_loss: 7.7431e-04\n",
      "Epoch 20/60\n",
      "19/19 [==============================] - 5s 281ms/step - loss: 5.9565e-04 - val_loss: 7.2969e-04\n",
      "Epoch 21/60\n",
      "19/19 [==============================] - 5s 276ms/step - loss: 5.7901e-04 - val_loss: 6.5177e-04\n",
      "Epoch 22/60\n",
      "19/19 [==============================] - 5s 284ms/step - loss: 5.5848e-04 - val_loss: 7.1762e-04\n",
      "Epoch 23/60\n",
      "19/19 [==============================] - 5s 283ms/step - loss: 5.9721e-04 - val_loss: 6.6527e-04\n",
      "Epoch 24/60\n",
      "19/19 [==============================] - 5s 286ms/step - loss: 5.8389e-04 - val_loss: 6.2607e-04\n",
      "Epoch 25/60\n",
      "19/19 [==============================] - 5s 285ms/step - loss: 5.6411e-04 - val_loss: 5.8753e-04\n",
      "Epoch 26/60\n",
      "19/19 [==============================] - 6s 293ms/step - loss: 5.1745e-04 - val_loss: 5.6194e-04\n",
      "Epoch 27/60\n",
      "19/19 [==============================] - 5s 270ms/step - loss: 5.2223e-04 - val_loss: 5.5648e-04\n",
      "Epoch 28/60\n",
      "19/19 [==============================] - 5s 271ms/step - loss: 5.0391e-04 - val_loss: 6.3493e-04\n",
      "Epoch 29/60\n",
      "19/19 [==============================] - 5s 285ms/step - loss: 5.6160e-04 - val_loss: 5.1652e-04\n",
      "Epoch 30/60\n",
      "19/19 [==============================] - 5s 287ms/step - loss: 5.1218e-04 - val_loss: 5.8008e-04\n",
      "Epoch 31/60\n",
      "19/19 [==============================] - 5s 286ms/step - loss: 4.7688e-04 - val_loss: 5.0827e-04\n",
      "Epoch 32/60\n",
      "19/19 [==============================] - 5s 282ms/step - loss: 4.6465e-04 - val_loss: 4.8106e-04\n",
      "Epoch 33/60\n",
      "19/19 [==============================] - 5s 282ms/step - loss: 4.5610e-04 - val_loss: 4.7747e-04\n",
      "Epoch 34/60\n",
      "19/19 [==============================] - 5s 284ms/step - loss: 4.5289e-04 - val_loss: 4.5178e-04\n",
      "Epoch 35/60\n",
      "19/19 [==============================] - 5s 287ms/step - loss: 4.5502e-04 - val_loss: 4.5158e-04\n",
      "Epoch 36/60\n",
      "19/19 [==============================] - 5s 289ms/step - loss: 4.3293e-04 - val_loss: 4.5726e-04\n",
      "Epoch 37/60\n",
      "19/19 [==============================] - 5s 290ms/step - loss: 4.2027e-04 - val_loss: 4.5940e-04\n",
      "Epoch 38/60\n",
      "19/19 [==============================] - 5s 277ms/step - loss: 4.0838e-04 - val_loss: 4.3724e-04\n",
      "Epoch 39/60\n",
      "19/19 [==============================] - 5s 285ms/step - loss: 4.0465e-04 - val_loss: 3.9923e-04\n",
      "Epoch 40/60\n",
      "19/19 [==============================] - 5s 279ms/step - loss: 4.3508e-04 - val_loss: 3.7993e-04\n",
      "Epoch 41/60\n",
      "19/19 [==============================] - 5s 289ms/step - loss: 3.9784e-04 - val_loss: 4.4718e-04\n",
      "Epoch 42/60\n",
      "19/19 [==============================] - 5s 288ms/step - loss: 4.1517e-04 - val_loss: 3.6495e-04\n",
      "Epoch 43/60\n",
      "19/19 [==============================] - 6s 293ms/step - loss: 3.6762e-04 - val_loss: 4.7960e-04\n",
      "Epoch 44/60\n",
      "19/19 [==============================] - 5s 288ms/step - loss: 3.6594e-04 - val_loss: 3.3671e-04\n",
      "Epoch 45/60\n",
      "19/19 [==============================] - 5s 286ms/step - loss: 3.4804e-04 - val_loss: 3.5909e-04\n",
      "Epoch 46/60\n",
      "19/19 [==============================] - 5s 288ms/step - loss: 3.5537e-04 - val_loss: 3.7495e-04\n",
      "Epoch 47/60\n",
      "19/19 [==============================] - 5s 288ms/step - loss: 3.3419e-04 - val_loss: 3.3357e-04\n",
      "Epoch 48/60\n",
      "19/19 [==============================] - 5s 288ms/step - loss: 3.5690e-04 - val_loss: 3.0766e-04\n",
      "Epoch 49/60\n",
      "19/19 [==============================] - 5s 283ms/step - loss: 3.2369e-04 - val_loss: 3.3717e-04\n",
      "Epoch 50/60\n",
      "19/19 [==============================] - 5s 289ms/step - loss: 3.3573e-04 - val_loss: 3.3349e-04\n",
      "Epoch 51/60\n",
      "19/19 [==============================] - 5s 284ms/step - loss: 3.3889e-04 - val_loss: 2.7045e-04\n",
      "Epoch 52/60\n",
      "19/19 [==============================] - 5s 286ms/step - loss: 3.4617e-04 - val_loss: 2.7601e-04\n",
      "Epoch 53/60\n",
      "19/19 [==============================] - 5s 282ms/step - loss: 3.0929e-04 - val_loss: 2.7659e-04\n",
      "Epoch 54/60\n",
      "19/19 [==============================] - 5s 281ms/step - loss: 2.9629e-04 - val_loss: 2.8815e-04\n",
      "Epoch 55/60\n",
      "19/19 [==============================] - 5s 260ms/step - loss: 2.8384e-04 - val_loss: 2.4549e-04\n",
      "Epoch 56/60\n",
      "19/19 [==============================] - 4s 195ms/step - loss: 2.8594e-04 - val_loss: 2.7031e-04\n",
      "Epoch 57/60\n",
      "19/19 [==============================] - 4s 191ms/step - loss: 2.6990e-04 - val_loss: 2.3541e-04\n",
      "Epoch 58/60\n",
      "19/19 [==============================] - 4s 194ms/step - loss: 2.7016e-04 - val_loss: 2.2788e-04\n",
      "Epoch 59/60\n",
      "19/19 [==============================] - 4s 192ms/step - loss: 2.9551e-04 - val_loss: 2.2685e-04\n",
      "Epoch 60/60\n",
      "19/19 [==============================] - 4s 191ms/step - loss: 2.5902e-04 - val_loss: 2.2265e-04\n"
     ]
    },
    {
     "data": {
      "text/plain": [
       "<keras.src.callbacks.History at 0x1b971d9a6d0>"
      ]
     },
     "execution_count": 31,
     "metadata": {},
     "output_type": "execute_result"
    }
   ],
   "source": [
    "model.fit(X_train,y_train,validation_split=0.1,epochs=60,batch_size=64,verbose=1)\n"
   ]
  },
  {
   "cell_type": "markdown",
   "metadata": {},
   "source": [
    "- X_train: The training input sequences (features) obtained from the create_dataset function. These sequences represent the past time steps used to predict the future target value.\n",
    "\n",
    "- y_train: The corresponding training target labels obtained from the create_dataset function. These target labels represent the future time step value to be predicted by the model.\n",
    "\n",
    "- validation_split=0.1: The validation split is a way to set aside a portion of the training data for validation during training. In this case, 10% of the training data (X_train and y_train) will be used for validation, and the remaining 90% will be used for actual training. The model will not be trained on the validation data, but its performance on this data will be monitored during training to assess generalization.\n",
    "\n",
    "- epochs=60: The number of epochs represents how many times the model will iterate through the entire training dataset during training. One epoch means one full pass through the dataset. In this case, the model will be trained for 60 epochs.\n",
    "\n",
    "- batch_size=64: The batch size determines how many samples are processed at once during each epoch. A smaller batch size consumes less memory but may result in slower training. A larger batch size can accelerate training but may require more memory. In this case, the batch size is set to 64.\n",
    "\n",
    "- verbose=1: The verbosity level during training determines how much information will be displayed during each epoch. A value of 1 means to display progress bars and training information for each epoch, while 0 means training will be silent without any output.\n",
    "\n",
    "- Once the fit method is executed, the LSTM model will be trained using the training data and validated using the validation split. The training progress and performance on the validation data will be displayed for each epoch based on the verbosity level specified. After training, the model will be ready for making predictions on unseen data."
   ]
  },
  {
   "cell_type": "code",
   "execution_count": 32,
   "metadata": {},
   "outputs": [
    {
     "name": "stdout",
     "output_type": "stream",
     "text": [
      "42/42 [==============================] - 3s 43ms/step\n",
      "16/16 [==============================] - 1s 64ms/step\n"
     ]
    }
   ],
   "source": [
    "train_predict = model.predict(X_train)\n",
    "test_predict = model.predict(X_test)"
   ]
  },
  {
   "cell_type": "code",
   "execution_count": 33,
   "metadata": {},
   "outputs": [],
   "source": [
    "train_predict = scaler.inverse_transform(train_predict)\n",
    "test_predict=scaler.inverse_transform(test_predict)"
   ]
  },
  {
   "cell_type": "markdown",
   "metadata": {},
   "source": [
    "- After applying inverse_transform, both train_predict and test_predict will contain the predicted 'Close' prices in their original scale, allowing for a meaningful comparison with the actual 'Close' prices. \n",
    "\n",
    "- This is necessary because, during training and testing, the LSTM model was fed with normalized data, and the model's predictions were made on the normalized scale. However, for practical use and visualization, the predictions need to be brought back to the original scale to interpret them in the context of actual stock prices."
   ]
  },
  {
   "cell_type": "markdown",
   "metadata": {},
   "source": [
    "#### Calculating the Performance"
   ]
  },
  {
   "cell_type": "code",
   "execution_count": 34,
   "metadata": {},
   "outputs": [],
   "source": [
    "import math\n",
    "from sklearn.metrics import mean_squared_error"
   ]
  },
  {
   "cell_type": "code",
   "execution_count": 35,
   "metadata": {},
   "outputs": [
    {
     "data": {
      "text/plain": [
       "133.5570915889323"
      ]
     },
     "execution_count": 35,
     "metadata": {},
     "output_type": "execute_result"
    }
   ],
   "source": [
    "math.sqrt(mean_squared_error(y_train,train_predict))"
   ]
  },
  {
   "cell_type": "code",
   "execution_count": 36,
   "metadata": {},
   "outputs": [
    {
     "data": {
      "text/plain": [
       "202.2649211722733"
      ]
     },
     "execution_count": 36,
     "metadata": {},
     "output_type": "execute_result"
    }
   ],
   "source": [
    "math.sqrt(mean_squared_error(y_test,test_predict))"
   ]
  },
  {
   "cell_type": "markdown",
   "metadata": {},
   "source": [
    "#### Plotting the graph with predicted train data, test data with actual data"
   ]
  },
  {
   "cell_type": "code",
   "execution_count": 37,
   "metadata": {},
   "outputs": [
    {
     "data": {
      "image/png": "[encoded data removed]",
      "text/plain": [
       "<Figure size 720x504 with 1 Axes>"
      ]
     },
     "metadata": {
      "needs_background": "light"
     },
     "output_type": "display_data"
    }
   ],
   "source": [
    "look_back = 100\n",
    "\n",
    "# Initialize arrays to plot the predictions\n",
    "trainPredictPlot = np.empty_like(close_stock_df)\n",
    "trainPredictPlot[:, :] = np.nan\n",
    "testPredictPlot = np.empty_like(close_stock_df)\n",
    "testPredictPlot[:, :] = np.nan\n",
    "\n",
    "# Fill the arrays with predictions for plotting\n",
    "trainPredictPlot[look_back:len(train_predict) + look_back, :] = train_predict\n",
    "testPredictPlot[len(train_predict) + (look_back * 2) + 1:len(close_stock_df) - 1, :] = test_predict\n",
    "\n",
    "# Plot baseline and predictions\n",
    "plt.figure(figsize=(10, 7))\n",
    "plt.plot(scaler.inverse_transform(close_stock_df), label='True Close Prices', color='blue')\n",
    "plt.plot(trainPredictPlot, label='Training Predictions', color='green')\n",
    "plt.plot(testPredictPlot, label='Testing Predictions', color='red')\n",
    "plt.xlabel('Time Step')\n",
    "plt.ylabel('Close Price')\n",
    "plt.title('Stock Market Prediction using LSTM')\n",
    "plt.legend()\n",
    "plt.show()\n"
   ]
  },
  {
   "cell_type": "markdown",
   "metadata": {},
   "source": [
    "#### Initialize arrays to plot the predictions\n",
    "- In this part, you have initialized trainPredictPlot and testPredictPlot as numpy arrays with the same shape as close_stock_df. These arrays are filled with np.nan values, representing missing or empty data. The reason for using np.nan is to create gaps in the plots where the predictions are not available, which helps distinguish them from the true close prices.\n",
    "\n",
    "#### Fill the arrays with predictions for plotting\n",
    "- Here, you are filling trainPredictPlot and testPredictPlot with the predictions obtained from the LSTM model:\n",
    "\n",
    "trainPredictPlot: You insert the training predictions (train_predict) into trainPredictPlot. The predictions are placed starting from the look_back index (100 time steps) up to the end of the training predictions, leaving the initial part (before look_back) as missing (represented by np.nan).\n",
    "\n",
    "testPredictPlot: You insert the testing predictions (test_predict) into testPredictPlot. The predictions are placed starting from the index after the training predictions and look_back * 2 time steps further, up to the end of the close_stock_df array, leaving the initial part (before testing predictions) and the last point (as the testing data is shorter than the original data) as missing (represented by np.nan).\n",
    "\n",
    "#### Plot baseline and predictions\n",
    "- In this part, you create a plot to visualize the true close prices (close_stock_df) along with the training and testing predictions:\n",
    "\n",
    "- plt.plot(scaler.inverse_transform(close_stock_df), label='True Close Prices', color='blue'): This line plots the true close prices (in their original scale) from close_stock_df against the time steps. The values are transformed back to their original scale using the inverse_transform method of the scaler object.\n",
    "\n",
    "- plt.plot(trainPredictPlot, label='Training Predictions', color='green'): This line plots the training predictions (trainPredictPlot) against the time steps in green.\n",
    "\n",
    "- plt.plot(testPredictPlot, label='Testing Predictions', color='red'): This line plots the testing predictions (testPredictPlot) against the time steps in red.\n",
    "\n",
    "- The plt.xlabel, plt.ylabel, plt.title, and plt.legend functions set the labels, title, and legend for the plot.\n",
    "\n",
    "- The resulting plot shows the true close prices in blue, the training predictions in green, and the testing predictions in red. It helps you visually assess how well the LSTM model's predictions align with the true stock prices in both the training and testing periods. The gaps in the plot represent the regions where the predictions are not available, as we filled those regions with np.nan values.\n",
    "\n"
   ]
  },
  {
   "cell_type": "markdown",
   "metadata": {},
   "source": [
    "#### Prediction for next 30 days"
   ]
  },
  {
   "cell_type": "code",
   "execution_count": 38,
   "metadata": {},
   "outputs": [
    {
     "data": {
      "text/plain": [
       "611"
      ]
     },
     "execution_count": 38,
     "metadata": {},
     "output_type": "execute_result"
    }
   ],
   "source": [
    "len(test_data)"
   ]
  },
  {
   "cell_type": "code",
   "execution_count": 39,
   "metadata": {},
   "outputs": [
    {
     "data": {
      "text/plain": [
       "(1, 100)"
      ]
     },
     "execution_count": 39,
     "metadata": {},
     "output_type": "execute_result"
    }
   ],
   "source": [
    "pred_input=test_data[511:].reshape(1,-1)\n",
    "pred_input.shape"
   ]
  },
  {
   "cell_type": "markdown",
   "metadata": {},
   "source": [
    "- test_data[511:]: This part of the code slices the test_data array starting from index 511 until the end of the array. The index 511 corresponds to the position after the testing sequences (of length time_step) used during the evaluation of the LSTM model.\n",
    "\n",
    "- .reshape(1, -1): After slicing the data, you reshape it into a 2-dimensional array using the reshape method. The first argument of reshape is set to 1, indicating that you want to have a single sample for prediction (a single input sequence). The second argument, -1, is a placeholder that automatically infers the number of columns needed based on the size of the original data. In this case, it will create a single row (sample) with as many columns as there are in the sliced data."
   ]
  },
  {
   "cell_type": "code",
   "execution_count": 40,
   "metadata": {},
   "outputs": [],
   "source": [
    "temp_input=list(pred_input)\n",
    "temp_input=temp_input[0].tolist()"
   ]
  },
  {
   "cell_type": "code",
   "execution_count": 41,
   "metadata": {},
   "outputs": [
    {
     "data": {
      "text/plain": [
       "[0.8527369281045751,\n",
       " 0.8621323529411764,\n",
       " 0.8345588235294117,\n",
       " 0.84375,\n",
       " 0.7146650326797386,\n",
       " 0.6605392156862745,\n",
       " 0.6542075163398693,\n",
       " 0.6803513071895424,\n",
       " 0.6689133986928104,\n",
       " 0.6642156862745099,\n",
       " 0.678921568627451,\n",
       " 0.6913807189542482,\n",
       " 0.7089460784313726,\n",
       " 0.7226307189542485,\n",
       " 0.7340686274509802,\n",
       " 0.7212009803921569,\n",
       " 0.749795751633987,\n",
       " 0.7689950980392157,\n",
       " 0.7446895424836601,\n",
       " 0.7120098039215685,\n",
       " 0.7467320261437909,\n",
       " 0.7549019607843137,\n",
       " 0.7604166666666667,\n",
       " 0.7598039215686274,\n",
       " 0.7465277777777777,\n",
       " 0.7624591503267975,\n",
       " 0.7706290849673203,\n",
       " 0.8041258169934642,\n",
       " 0.7810457516339868,\n",
       " 0.7941176470588236,\n",
       " 0.7602124183006536,\n",
       " 0.7348856209150327,\n",
       " 0.7240604575163399,\n",
       " 0.7399918300653596,\n",
       " 0.749795751633987,\n",
       " 0.7614379084967322,\n",
       " 0.7542892156862746,\n",
       " 0.7475490196078431,\n",
       " 0.769607843137255,\n",
       " 0.7495915032679739,\n",
       " 0.8171977124183007,\n",
       " 0.8020833333333335,\n",
       " 0.7773692810457518,\n",
       " 0.7571486928104576,\n",
       " 0.7937091503267975,\n",
       " 0.7916666666666667,\n",
       " 0.7714460784313726,\n",
       " 0.7526552287581698,\n",
       " 0.7269199346405228,\n",
       " 0.6629901960784313,\n",
       " 0.6819852941176472,\n",
       " 0.6441993464052288,\n",
       " 0.6215277777777778,\n",
       " 0.6439950980392156,\n",
       " 0.6631944444444445,\n",
       " 0.6754493464052289,\n",
       " 0.6370506535947713,\n",
       " 0.6460375816993464,\n",
       " 0.6589052287581699,\n",
       " 0.6587009803921569,\n",
       " 0.6779003267973858,\n",
       " 0.6319444444444445,\n",
       " 0.6311274509803921,\n",
       " 0.627859477124183,\n",
       " 0.647671568627451,\n",
       " 0.6399101307189542,\n",
       " 0.6348039215686274,\n",
       " 0.6386846405228759,\n",
       " 0.6233660130718954,\n",
       " 0.627450980392157,\n",
       " 0.6397058823529412,\n",
       " 0.6470588235294118,\n",
       " 0.661968954248366,\n",
       " 0.6707516339869282,\n",
       " 0.6519607843137255,\n",
       " 0.6311274509803921,\n",
       " 0.6129493464052288,\n",
       " 0.6376633986928105,\n",
       " 0.6225490196078431,\n",
       " 0.627450980392157,\n",
       " 0.6333741830065359,\n",
       " 0.6264297385620916,\n",
       " 0.6362336601307189,\n",
       " 0.5831290849673202,\n",
       " 0.5778186274509804,\n",
       " 0.5723039215686275,\n",
       " 0.5800653594771241,\n",
       " 0.5761846405228758,\n",
       " 0.5516748366013072,\n",
       " 0.5788398692810458,\n",
       " 0.625,\n",
       " 0.6358251633986928,\n",
       " 0.6294934640522877,\n",
       " 0.6288807189542484,\n",
       " 0.6276552287581699,\n",
       " 0.6223447712418301,\n",
       " 0.6337826797385621,\n",
       " 0.6262254901960784,\n",
       " 0.622140522875817,\n",
       " 0.6241830065359477]"
      ]
     },
     "execution_count": 41,
     "metadata": {},
     "output_type": "execute_result"
    }
   ],
   "source": [
    "temp_input"
   ]
  },
  {
   "cell_type": "code",
   "execution_count": 42,
   "metadata": {},
   "outputs": [
    {
     "name": "stdout",
     "output_type": "stream",
     "text": [
      "[0.5830821]\n",
      "101\n",
      "1 day input [0.86213235 0.83455882 0.84375    0.71466503 0.66053922 0.65420752\n",
      " 0.68035131 0.6689134  0.66421569 0.67892157 0.69138072 0.70894608\n",
      " 0.72263072 0.73406863 0.72120098 0.74979575 0.7689951  0.74468954\n",
      " 0.7120098  0.74673203 0.75490196 0.76041667 0.75980392 0.74652778\n",
      " 0.76245915 0.77062908 0.80412582 0.78104575 0.79411765 0.76021242\n",
      " 0.73488562 0.72406046 0.73999183 0.74979575 0.76143791 0.75428922\n",
      " 0.74754902 0.76960784 0.7495915  0.81719771 0.80208333 0.77736928\n",
      " 0.75714869 0.79370915 0.79166667 0.77144608 0.75265523 0.72691993\n",
      " 0.6629902  0.68198529 0.64419935 0.62152778 0.6439951  0.66319444\n",
      " 0.67544935 0.63705065 0.64603758 0.65890523 0.65870098 0.67790033\n",
      " 0.63194444 0.63112745 0.62785948 0.64767157 0.63991013 0.63480392\n",
      " 0.63868464 0.62336601 0.62745098 0.63970588 0.64705882 0.66196895\n",
      " 0.67075163 0.65196078 0.63112745 0.61294935 0.6376634  0.62254902\n",
      " 0.62745098 0.63337418 0.62642974 0.63623366 0.58312908 0.57781863\n",
      " 0.57230392 0.58006536 0.57618464 0.55167484 0.57883987 0.625\n",
      " 0.63582516 0.62949346 0.62888072 0.62765523 0.62234477 0.63378268\n",
      " 0.62622549 0.62214052 0.62418301 0.58308208]\n",
      "1 day output [[0.56738794]]\n",
      "2 day input [0.83455882 0.84375    0.71466503 0.66053922 0.65420752 0.68035131\n",
      " 0.6689134  0.66421569 0.67892157 0.69138072 0.70894608 0.72263072\n",
      " 0.73406863 0.72120098 0.74979575 0.7689951  0.74468954 0.7120098\n",
      " 0.74673203 0.75490196 0.76041667 0.75980392 0.74652778 0.76245915\n",
      " 0.77062908 0.80412582 0.78104575 0.79411765 0.76021242 0.73488562\n",
      " 0.72406046 0.73999183 0.74979575 0.76143791 0.75428922 0.74754902\n",
      " 0.76960784 0.7495915  0.81719771 0.80208333 0.77736928 0.75714869\n",
      " 0.79370915 0.79166667 0.77144608 0.75265523 0.72691993 0.6629902\n",
      " 0.68198529 0.64419935 0.62152778 0.6439951  0.66319444 0.67544935\n",
      " 0.63705065 0.64603758 0.65890523 0.65870098 0.67790033 0.63194444\n",
      " 0.63112745 0.62785948 0.64767157 0.63991013 0.63480392 0.63868464\n",
      " 0.62336601 0.62745098 0.63970588 0.64705882 0.66196895 0.67075163\n",
      " 0.65196078 0.63112745 0.61294935 0.6376634  0.62254902 0.62745098\n",
      " 0.63337418 0.62642974 0.63623366 0.58312908 0.57781863 0.57230392\n",
      " 0.58006536 0.57618464 0.55167484 0.57883987 0.625      0.63582516\n",
      " 0.62949346 0.62888072 0.62765523 0.62234477 0.63378268 0.62622549\n",
      " 0.62214052 0.62418301 0.58308208 0.56738794]\n",
      "2 day output [[0.5429404]]\n",
      "3 day input [0.84375    0.71466503 0.66053922 0.65420752 0.68035131 0.6689134\n",
      " 0.66421569 0.67892157 0.69138072 0.70894608 0.72263072 0.73406863\n",
      " 0.72120098 0.74979575 0.7689951  0.74468954 0.7120098  0.74673203\n",
      " 0.75490196 0.76041667 0.75980392 0.74652778 0.76245915 0.77062908\n",
      " 0.80412582 0.78104575 0.79411765 0.76021242 0.73488562 0.72406046\n",
      " 0.73999183 0.74979575 0.76143791 0.75428922 0.74754902 0.76960784\n",
      " 0.7495915  0.81719771 0.80208333 0.77736928 0.75714869 0.79370915\n",
      " 0.79166667 0.77144608 0.75265523 0.72691993 0.6629902  0.68198529\n",
      " 0.64419935 0.62152778 0.6439951  0.66319444 0.67544935 0.63705065\n",
      " 0.64603758 0.65890523 0.65870098 0.67790033 0.63194444 0.63112745\n",
      " 0.62785948 0.64767157 0.63991013 0.63480392 0.63868464 0.62336601\n",
      " 0.62745098 0.63970588 0.64705882 0.66196895 0.67075163 0.65196078\n",
      " 0.63112745 0.61294935 0.6376634  0.62254902 0.62745098 0.63337418\n",
      " 0.62642974 0.63623366 0.58312908 0.57781863 0.57230392 0.58006536\n",
      " 0.57618464 0.55167484 0.57883987 0.625      0.63582516 0.62949346\n",
      " 0.62888072 0.62765523 0.62234477 0.63378268 0.62622549 0.62214052\n",
      " 0.62418301 0.58308208 0.56738794 0.54294038]\n",
      "3 day output [[0.51746994]]\n",
      "4 day input [0.71466503 0.66053922 0.65420752 0.68035131 0.6689134  0.66421569\n",
      " 0.67892157 0.69138072 0.70894608 0.72263072 0.73406863 0.72120098\n",
      " 0.74979575 0.7689951  0.74468954 0.7120098  0.74673203 0.75490196\n",
      " 0.76041667 0.75980392 0.74652778 0.76245915 0.77062908 0.80412582\n",
      " 0.78104575 0.79411765 0.76021242 0.73488562 0.72406046 0.73999183\n",
      " 0.74979575 0.76143791 0.75428922 0.74754902 0.76960784 0.7495915\n",
      " 0.81719771 0.80208333 0.77736928 0.75714869 0.79370915 0.79166667\n",
      " 0.77144608 0.75265523 0.72691993 0.6629902  0.68198529 0.64419935\n",
      " 0.62152778 0.6439951  0.66319444 0.67544935 0.63705065 0.64603758\n",
      " 0.65890523 0.65870098 0.67790033 0.63194444 0.63112745 0.62785948\n",
      " 0.64767157 0.63991013 0.63480392 0.63868464 0.62336601 0.62745098\n",
      " 0.63970588 0.64705882 0.66196895 0.67075163 0.65196078 0.63112745\n",
      " 0.61294935 0.6376634  0.62254902 0.62745098 0.63337418 0.62642974\n",
      " 0.63623366 0.58312908 0.57781863 0.57230392 0.58006536 0.57618464\n",
      " 0.55167484 0.57883987 0.625      0.63582516 0.62949346 0.62888072\n",
      " 0.62765523 0.62234477 0.63378268 0.62622549 0.62214052 0.62418301\n",
      " 0.58308208 0.56738794 0.54294038 0.51746994]\n",
      "4 day output [[0.49494717]]\n",
      "5 day input [0.66053922 0.65420752 0.68035131 0.6689134  0.66421569 0.67892157\n",
      " 0.69138072 0.70894608 0.72263072 0.73406863 0.72120098 0.74979575\n",
      " 0.7689951  0.74468954 0.7120098  0.74673203 0.75490196 0.76041667\n",
      " 0.75980392 0.74652778 0.76245915 0.77062908 0.80412582 0.78104575\n",
      " 0.79411765 0.76021242 0.73488562 0.72406046 0.73999183 0.74979575\n",
      " 0.76143791 0.75428922 0.74754902 0.76960784 0.7495915  0.81719771\n",
      " 0.80208333 0.77736928 0.75714869 0.79370915 0.79166667 0.77144608\n",
      " 0.75265523 0.72691993 0.6629902  0.68198529 0.64419935 0.62152778\n",
      " 0.6439951  0.66319444 0.67544935 0.63705065 0.64603758 0.65890523\n",
      " 0.65870098 0.67790033 0.63194444 0.63112745 0.62785948 0.64767157\n",
      " 0.63991013 0.63480392 0.63868464 0.62336601 0.62745098 0.63970588\n",
      " 0.64705882 0.66196895 0.67075163 0.65196078 0.63112745 0.61294935\n",
      " 0.6376634  0.62254902 0.62745098 0.63337418 0.62642974 0.63623366\n",
      " 0.58312908 0.57781863 0.57230392 0.58006536 0.57618464 0.55167484\n",
      " 0.57883987 0.625      0.63582516 0.62949346 0.62888072 0.62765523\n",
      " 0.62234477 0.63378268 0.62622549 0.62214052 0.62418301 0.58308208\n",
      " 0.56738794 0.54294038 0.51746994 0.49494717]\n",
      "5 day output [[0.4762055]]\n",
      "6 day input [0.65420752 0.68035131 0.6689134  0.66421569 0.67892157 0.69138072\n",
      " 0.70894608 0.72263072 0.73406863 0.72120098 0.74979575 0.7689951\n",
      " 0.74468954 0.7120098  0.74673203 0.75490196 0.76041667 0.75980392\n",
      " 0.74652778 0.76245915 0.77062908 0.80412582 0.78104575 0.79411765\n",
      " 0.76021242 0.73488562 0.72406046 0.73999183 0.74979575 0.76143791\n",
      " 0.75428922 0.74754902 0.76960784 0.7495915  0.81719771 0.80208333\n",
      " 0.77736928 0.75714869 0.79370915 0.79166667 0.77144608 0.75265523\n",
      " 0.72691993 0.6629902  0.68198529 0.64419935 0.62152778 0.6439951\n",
      " 0.66319444 0.67544935 0.63705065 0.64603758 0.65890523 0.65870098\n",
      " 0.67790033 0.63194444 0.63112745 0.62785948 0.64767157 0.63991013\n",
      " 0.63480392 0.63868464 0.62336601 0.62745098 0.63970588 0.64705882\n",
      " 0.66196895 0.67075163 0.65196078 0.63112745 0.61294935 0.6376634\n",
      " 0.62254902 0.62745098 0.63337418 0.62642974 0.63623366 0.58312908\n",
      " 0.57781863 0.57230392 0.58006536 0.57618464 0.55167484 0.57883987\n",
      " 0.625      0.63582516 0.62949346 0.62888072 0.62765523 0.62234477\n",
      " 0.63378268 0.62622549 0.62214052 0.62418301 0.58308208 0.56738794\n",
      " 0.54294038 0.51746994 0.49494717 0.4762055 ]\n",
      "6 day output [[0.46064124]]\n",
      "7 day input [0.68035131 0.6689134  0.66421569 0.67892157 0.69138072 0.70894608\n",
      " 0.72263072 0.73406863 0.72120098 0.74979575 0.7689951  0.74468954\n",
      " 0.7120098  0.74673203 0.75490196 0.76041667 0.75980392 0.74652778\n",
      " 0.76245915 0.77062908 0.80412582 0.78104575 0.79411765 0.76021242\n",
      " 0.73488562 0.72406046 0.73999183 0.74979575 0.76143791 0.75428922\n",
      " 0.74754902 0.76960784 0.7495915  0.81719771 0.80208333 0.77736928\n",
      " 0.75714869 0.79370915 0.79166667 0.77144608 0.75265523 0.72691993\n",
      " 0.6629902  0.68198529 0.64419935 0.62152778 0.6439951  0.66319444\n",
      " 0.67544935 0.63705065 0.64603758 0.65890523 0.65870098 0.67790033\n",
      " 0.63194444 0.63112745 0.62785948 0.64767157 0.63991013 0.63480392\n",
      " 0.63868464 0.62336601 0.62745098 0.63970588 0.64705882 0.66196895\n",
      " 0.67075163 0.65196078 0.63112745 0.61294935 0.6376634  0.62254902\n",
      " 0.62745098 0.63337418 0.62642974 0.63623366 0.58312908 0.57781863\n",
      " 0.57230392 0.58006536 0.57618464 0.55167484 0.57883987 0.625\n",
      " 0.63582516 0.62949346 0.62888072 0.62765523 0.62234477 0.63378268\n",
      " 0.62622549 0.62214052 0.62418301 0.58308208 0.56738794 0.54294038\n",
      " 0.51746994 0.49494717 0.4762055  0.46064124]\n",
      "7 day output [[0.44739679]]\n",
      "8 day input [0.6689134  0.66421569 0.67892157 0.69138072 0.70894608 0.72263072\n",
      " 0.73406863 0.72120098 0.74979575 0.7689951  0.74468954 0.7120098\n",
      " 0.74673203 0.75490196 0.76041667 0.75980392 0.74652778 0.76245915\n",
      " 0.77062908 0.80412582 0.78104575 0.79411765 0.76021242 0.73488562\n",
      " 0.72406046 0.73999183 0.74979575 0.76143791 0.75428922 0.74754902\n",
      " 0.76960784 0.7495915  0.81719771 0.80208333 0.77736928 0.75714869\n",
      " 0.79370915 0.79166667 0.77144608 0.75265523 0.72691993 0.6629902\n",
      " 0.68198529 0.64419935 0.62152778 0.6439951  0.66319444 0.67544935\n",
      " 0.63705065 0.64603758 0.65890523 0.65870098 0.67790033 0.63194444\n",
      " 0.63112745 0.62785948 0.64767157 0.63991013 0.63480392 0.63868464\n",
      " 0.62336601 0.62745098 0.63970588 0.64705882 0.66196895 0.67075163\n",
      " 0.65196078 0.63112745 0.61294935 0.6376634  0.62254902 0.62745098\n",
      " 0.63337418 0.62642974 0.63623366 0.58312908 0.57781863 0.57230392\n",
      " 0.58006536 0.57618464 0.55167484 0.57883987 0.625      0.63582516\n",
      " 0.62949346 0.62888072 0.62765523 0.62234477 0.63378268 0.62622549\n",
      " 0.62214052 0.62418301 0.58308208 0.56738794 0.54294038 0.51746994\n",
      " 0.49494717 0.4762055  0.46064124 0.44739679]\n",
      "8 day output [[0.43580958]]\n",
      "9 day input [0.66421569 0.67892157 0.69138072 0.70894608 0.72263072 0.73406863\n",
      " 0.72120098 0.74979575 0.7689951  0.74468954 0.7120098  0.74673203\n",
      " 0.75490196 0.76041667 0.75980392 0.74652778 0.76245915 0.77062908\n",
      " 0.80412582 0.78104575 0.79411765 0.76021242 0.73488562 0.72406046\n",
      " 0.73999183 0.74979575 0.76143791 0.75428922 0.74754902 0.76960784\n",
      " 0.7495915  0.81719771 0.80208333 0.77736928 0.75714869 0.79370915\n",
      " 0.79166667 0.77144608 0.75265523 0.72691993 0.6629902  0.68198529\n",
      " 0.64419935 0.62152778 0.6439951  0.66319444 0.67544935 0.63705065\n",
      " 0.64603758 0.65890523 0.65870098 0.67790033 0.63194444 0.63112745\n",
      " 0.62785948 0.64767157 0.63991013 0.63480392 0.63868464 0.62336601\n",
      " 0.62745098 0.63970588 0.64705882 0.66196895 0.67075163 0.65196078\n",
      " 0.63112745 0.61294935 0.6376634  0.62254902 0.62745098 0.63337418\n",
      " 0.62642974 0.63623366 0.58312908 0.57781863 0.57230392 0.58006536\n",
      " 0.57618464 0.55167484 0.57883987 0.625      0.63582516 0.62949346\n",
      " 0.62888072 0.62765523 0.62234477 0.63378268 0.62622549 0.62214052\n",
      " 0.62418301 0.58308208 0.56738794 0.54294038 0.51746994 0.49494717\n",
      " 0.4762055  0.46064124 0.44739679 0.43580958]\n",
      "9 day output [[0.42544645]]\n",
      "10 day input [0.67892157 0.69138072 0.70894608 0.72263072 0.73406863 0.72120098\n",
      " 0.74979575 0.7689951  0.74468954 0.7120098  0.74673203 0.75490196\n",
      " 0.76041667 0.75980392 0.74652778 0.76245915 0.77062908 0.80412582\n",
      " 0.78104575 0.79411765 0.76021242 0.73488562 0.72406046 0.73999183\n",
      " 0.74979575 0.76143791 0.75428922 0.74754902 0.76960784 0.7495915\n",
      " 0.81719771 0.80208333 0.77736928 0.75714869 0.79370915 0.79166667\n",
      " 0.77144608 0.75265523 0.72691993 0.6629902  0.68198529 0.64419935\n",
      " 0.62152778 0.6439951  0.66319444 0.67544935 0.63705065 0.64603758\n",
      " 0.65890523 0.65870098 0.67790033 0.63194444 0.63112745 0.62785948\n",
      " 0.64767157 0.63991013 0.63480392 0.63868464 0.62336601 0.62745098\n",
      " 0.63970588 0.64705882 0.66196895 0.67075163 0.65196078 0.63112745\n",
      " 0.61294935 0.6376634  0.62254902 0.62745098 0.63337418 0.62642974\n",
      " 0.63623366 0.58312908 0.57781863 0.57230392 0.58006536 0.57618464\n",
      " 0.55167484 0.57883987 0.625      0.63582516 0.62949346 0.62888072\n",
      " 0.62765523 0.62234477 0.63378268 0.62622549 0.62214052 0.62418301\n",
      " 0.58308208 0.56738794 0.54294038 0.51746994 0.49494717 0.4762055\n",
      " 0.46064124 0.44739679 0.43580958 0.42544645]\n",
      "10 day output [[0.4160277]]\n",
      "11 day input [0.69138072 0.70894608 0.72263072 0.73406863 0.72120098 0.74979575\n",
      " 0.7689951  0.74468954 0.7120098  0.74673203 0.75490196 0.76041667\n",
      " 0.75980392 0.74652778 0.76245915 0.77062908 0.80412582 0.78104575\n",
      " 0.79411765 0.76021242 0.73488562 0.72406046 0.73999183 0.74979575\n",
      " 0.76143791 0.75428922 0.74754902 0.76960784 0.7495915  0.81719771\n",
      " 0.80208333 0.77736928 0.75714869 0.79370915 0.79166667 0.77144608\n",
      " 0.75265523 0.72691993 0.6629902  0.68198529 0.64419935 0.62152778\n",
      " 0.6439951  0.66319444 0.67544935 0.63705065 0.64603758 0.65890523\n",
      " 0.65870098 0.67790033 0.63194444 0.63112745 0.62785948 0.64767157\n",
      " 0.63991013 0.63480392 0.63868464 0.62336601 0.62745098 0.63970588\n",
      " 0.64705882 0.66196895 0.67075163 0.65196078 0.63112745 0.61294935\n",
      " 0.6376634  0.62254902 0.62745098 0.63337418 0.62642974 0.63623366\n",
      " 0.58312908 0.57781863 0.57230392 0.58006536 0.57618464 0.55167484\n",
      " 0.57883987 0.625      0.63582516 0.62949346 0.62888072 0.62765523\n",
      " 0.62234477 0.63378268 0.62622549 0.62214052 0.62418301 0.58308208\n",
      " 0.56738794 0.54294038 0.51746994 0.49494717 0.4762055  0.46064124\n",
      " 0.44739679 0.43580958 0.42544645 0.41602769]\n",
      "11 day output [[0.40736908]]\n",
      "12 day input [0.70894608 0.72263072 0.73406863 0.72120098 0.74979575 0.7689951\n",
      " 0.74468954 0.7120098  0.74673203 0.75490196 0.76041667 0.75980392\n",
      " 0.74652778 0.76245915 0.77062908 0.80412582 0.78104575 0.79411765\n",
      " 0.76021242 0.73488562 0.72406046 0.73999183 0.74979575 0.76143791\n",
      " 0.75428922 0.74754902 0.76960784 0.7495915  0.81719771 0.80208333\n",
      " 0.77736928 0.75714869 0.79370915 0.79166667 0.77144608 0.75265523\n",
      " 0.72691993 0.6629902  0.68198529 0.64419935 0.62152778 0.6439951\n",
      " 0.66319444 0.67544935 0.63705065 0.64603758 0.65890523 0.65870098\n",
      " 0.67790033 0.63194444 0.63112745 0.62785948 0.64767157 0.63991013\n",
      " 0.63480392 0.63868464 0.62336601 0.62745098 0.63970588 0.64705882\n",
      " 0.66196895 0.67075163 0.65196078 0.63112745 0.61294935 0.6376634\n",
      " 0.62254902 0.62745098 0.63337418 0.62642974 0.63623366 0.58312908\n",
      " 0.57781863 0.57230392 0.58006536 0.57618464 0.55167484 0.57883987\n",
      " 0.625      0.63582516 0.62949346 0.62888072 0.62765523 0.62234477\n",
      " 0.63378268 0.62622549 0.62214052 0.62418301 0.58308208 0.56738794\n",
      " 0.54294038 0.51746994 0.49494717 0.4762055  0.46064124 0.44739679\n",
      " 0.43580958 0.42544645 0.41602769 0.40736908]\n",
      "12 day output [[0.39935866]]\n",
      "13 day input [0.72263072 0.73406863 0.72120098 0.74979575 0.7689951  0.74468954\n",
      " 0.7120098  0.74673203 0.75490196 0.76041667 0.75980392 0.74652778\n",
      " 0.76245915 0.77062908 0.80412582 0.78104575 0.79411765 0.76021242\n",
      " 0.73488562 0.72406046 0.73999183 0.74979575 0.76143791 0.75428922\n",
      " 0.74754902 0.76960784 0.7495915  0.81719771 0.80208333 0.77736928\n",
      " 0.75714869 0.79370915 0.79166667 0.77144608 0.75265523 0.72691993\n",
      " 0.6629902  0.68198529 0.64419935 0.62152778 0.6439951  0.66319444\n",
      " 0.67544935 0.63705065 0.64603758 0.65890523 0.65870098 0.67790033\n",
      " 0.63194444 0.63112745 0.62785948 0.64767157 0.63991013 0.63480392\n",
      " 0.63868464 0.62336601 0.62745098 0.63970588 0.64705882 0.66196895\n",
      " 0.67075163 0.65196078 0.63112745 0.61294935 0.6376634  0.62254902\n",
      " 0.62745098 0.63337418 0.62642974 0.63623366 0.58312908 0.57781863\n",
      " 0.57230392 0.58006536 0.57618464 0.55167484 0.57883987 0.625\n",
      " 0.63582516 0.62949346 0.62888072 0.62765523 0.62234477 0.63378268\n",
      " 0.62622549 0.62214052 0.62418301 0.58308208 0.56738794 0.54294038\n",
      " 0.51746994 0.49494717 0.4762055  0.46064124 0.44739679 0.43580958\n",
      " 0.42544645 0.41602769 0.40736908 0.39935866]\n",
      "13 day output [[0.39194244]]\n",
      "14 day input [0.73406863 0.72120098 0.74979575 0.7689951  0.74468954 0.7120098\n",
      " 0.74673203 0.75490196 0.76041667 0.75980392 0.74652778 0.76245915\n",
      " 0.77062908 0.80412582 0.78104575 0.79411765 0.76021242 0.73488562\n",
      " 0.72406046 0.73999183 0.74979575 0.76143791 0.75428922 0.74754902\n",
      " 0.76960784 0.7495915  0.81719771 0.80208333 0.77736928 0.75714869\n",
      " 0.79370915 0.79166667 0.77144608 0.75265523 0.72691993 0.6629902\n",
      " 0.68198529 0.64419935 0.62152778 0.6439951  0.66319444 0.67544935\n",
      " 0.63705065 0.64603758 0.65890523 0.65870098 0.67790033 0.63194444\n",
      " 0.63112745 0.62785948 0.64767157 0.63991013 0.63480392 0.63868464\n",
      " 0.62336601 0.62745098 0.63970588 0.64705882 0.66196895 0.67075163\n",
      " 0.65196078 0.63112745 0.61294935 0.6376634  0.62254902 0.62745098\n",
      " 0.63337418 0.62642974 0.63623366 0.58312908 0.57781863 0.57230392\n",
      " 0.58006536 0.57618464 0.55167484 0.57883987 0.625      0.63582516\n",
      " 0.62949346 0.62888072 0.62765523 0.62234477 0.63378268 0.62622549\n",
      " 0.62214052 0.62418301 0.58308208 0.56738794 0.54294038 0.51746994\n",
      " 0.49494717 0.4762055  0.46064124 0.44739679 0.43580958 0.42544645\n",
      " 0.41602769 0.40736908 0.39935866 0.39194244]\n",
      "14 day output [[0.38510945]]\n",
      "15 day input [0.72120098 0.74979575 0.7689951  0.74468954 0.7120098  0.74673203\n",
      " 0.75490196 0.76041667 0.75980392 0.74652778 0.76245915 0.77062908\n",
      " 0.80412582 0.78104575 0.79411765 0.76021242 0.73488562 0.72406046\n",
      " 0.73999183 0.74979575 0.76143791 0.75428922 0.74754902 0.76960784\n",
      " 0.7495915  0.81719771 0.80208333 0.77736928 0.75714869 0.79370915\n",
      " 0.79166667 0.77144608 0.75265523 0.72691993 0.6629902  0.68198529\n",
      " 0.64419935 0.62152778 0.6439951  0.66319444 0.67544935 0.63705065\n",
      " 0.64603758 0.65890523 0.65870098 0.67790033 0.63194444 0.63112745\n",
      " 0.62785948 0.64767157 0.63991013 0.63480392 0.63868464 0.62336601\n",
      " 0.62745098 0.63970588 0.64705882 0.66196895 0.67075163 0.65196078\n",
      " 0.63112745 0.61294935 0.6376634  0.62254902 0.62745098 0.63337418\n",
      " 0.62642974 0.63623366 0.58312908 0.57781863 0.57230392 0.58006536\n",
      " 0.57618464 0.55167484 0.57883987 0.625      0.63582516 0.62949346\n",
      " 0.62888072 0.62765523 0.62234477 0.63378268 0.62622549 0.62214052\n",
      " 0.62418301 0.58308208 0.56738794 0.54294038 0.51746994 0.49494717\n",
      " 0.4762055  0.46064124 0.44739679 0.43580958 0.42544645 0.41602769\n",
      " 0.40736908 0.39935866 0.39194244 0.38510945]\n",
      "15 day output [[0.37887073]]\n",
      "16 day input [0.74979575 0.7689951  0.74468954 0.7120098  0.74673203 0.75490196\n",
      " 0.76041667 0.75980392 0.74652778 0.76245915 0.77062908 0.80412582\n",
      " 0.78104575 0.79411765 0.76021242 0.73488562 0.72406046 0.73999183\n",
      " 0.74979575 0.76143791 0.75428922 0.74754902 0.76960784 0.7495915\n",
      " 0.81719771 0.80208333 0.77736928 0.75714869 0.79370915 0.79166667\n",
      " 0.77144608 0.75265523 0.72691993 0.6629902  0.68198529 0.64419935\n",
      " 0.62152778 0.6439951  0.66319444 0.67544935 0.63705065 0.64603758\n",
      " 0.65890523 0.65870098 0.67790033 0.63194444 0.63112745 0.62785948\n",
      " 0.64767157 0.63991013 0.63480392 0.63868464 0.62336601 0.62745098\n",
      " 0.63970588 0.64705882 0.66196895 0.67075163 0.65196078 0.63112745\n",
      " 0.61294935 0.6376634  0.62254902 0.62745098 0.63337418 0.62642974\n",
      " 0.63623366 0.58312908 0.57781863 0.57230392 0.58006536 0.57618464\n",
      " 0.55167484 0.57883987 0.625      0.63582516 0.62949346 0.62888072\n",
      " 0.62765523 0.62234477 0.63378268 0.62622549 0.62214052 0.62418301\n",
      " 0.58308208 0.56738794 0.54294038 0.51746994 0.49494717 0.4762055\n",
      " 0.46064124 0.44739679 0.43580958 0.42544645 0.41602769 0.40736908\n",
      " 0.39935866 0.39194244 0.38510945 0.37887073]\n",
      "16 day output [[0.37323835]]\n",
      "17 day input [0.7689951  0.74468954 0.7120098  0.74673203 0.75490196 0.76041667\n",
      " 0.75980392 0.74652778 0.76245915 0.77062908 0.80412582 0.78104575\n",
      " 0.79411765 0.76021242 0.73488562 0.72406046 0.73999183 0.74979575\n",
      " 0.76143791 0.75428922 0.74754902 0.76960784 0.7495915  0.81719771\n",
      " 0.80208333 0.77736928 0.75714869 0.79370915 0.79166667 0.77144608\n",
      " 0.75265523 0.72691993 0.6629902  0.68198529 0.64419935 0.62152778\n",
      " 0.6439951  0.66319444 0.67544935 0.63705065 0.64603758 0.65890523\n",
      " 0.65870098 0.67790033 0.63194444 0.63112745 0.62785948 0.64767157\n",
      " 0.63991013 0.63480392 0.63868464 0.62336601 0.62745098 0.63970588\n",
      " 0.64705882 0.66196895 0.67075163 0.65196078 0.63112745 0.61294935\n",
      " 0.6376634  0.62254902 0.62745098 0.63337418 0.62642974 0.63623366\n",
      " 0.58312908 0.57781863 0.57230392 0.58006536 0.57618464 0.55167484\n",
      " 0.57883987 0.625      0.63582516 0.62949346 0.62888072 0.62765523\n",
      " 0.62234477 0.63378268 0.62622549 0.62214052 0.62418301 0.58308208\n",
      " 0.56738794 0.54294038 0.51746994 0.49494717 0.4762055  0.46064124\n",
      " 0.44739679 0.43580958 0.42544645 0.41602769 0.40736908 0.39935866\n",
      " 0.39194244 0.38510945 0.37887073 0.37323835]\n",
      "17 day output [[0.3682096]]\n",
      "18 day input [0.74468954 0.7120098  0.74673203 0.75490196 0.76041667 0.75980392\n",
      " 0.74652778 0.76245915 0.77062908 0.80412582 0.78104575 0.79411765\n",
      " 0.76021242 0.73488562 0.72406046 0.73999183 0.74979575 0.76143791\n",
      " 0.75428922 0.74754902 0.76960784 0.7495915  0.81719771 0.80208333\n",
      " 0.77736928 0.75714869 0.79370915 0.79166667 0.77144608 0.75265523\n",
      " 0.72691993 0.6629902  0.68198529 0.64419935 0.62152778 0.6439951\n",
      " 0.66319444 0.67544935 0.63705065 0.64603758 0.65890523 0.65870098\n",
      " 0.67790033 0.63194444 0.63112745 0.62785948 0.64767157 0.63991013\n",
      " 0.63480392 0.63868464 0.62336601 0.62745098 0.63970588 0.64705882\n",
      " 0.66196895 0.67075163 0.65196078 0.63112745 0.61294935 0.6376634\n",
      " 0.62254902 0.62745098 0.63337418 0.62642974 0.63623366 0.58312908\n",
      " 0.57781863 0.57230392 0.58006536 0.57618464 0.55167484 0.57883987\n",
      " 0.625      0.63582516 0.62949346 0.62888072 0.62765523 0.62234477\n",
      " 0.63378268 0.62622549 0.62214052 0.62418301 0.58308208 0.56738794\n",
      " 0.54294038 0.51746994 0.49494717 0.4762055  0.46064124 0.44739679\n",
      " 0.43580958 0.42544645 0.41602769 0.40736908 0.39935866 0.39194244\n",
      " 0.38510945 0.37887073 0.37323835 0.3682096 ]\n",
      "18 day output [[0.36375877]]\n",
      "19 day input [0.7120098  0.74673203 0.75490196 0.76041667 0.75980392 0.74652778\n",
      " 0.76245915 0.77062908 0.80412582 0.78104575 0.79411765 0.76021242\n",
      " 0.73488562 0.72406046 0.73999183 0.74979575 0.76143791 0.75428922\n",
      " 0.74754902 0.76960784 0.7495915  0.81719771 0.80208333 0.77736928\n",
      " 0.75714869 0.79370915 0.79166667 0.77144608 0.75265523 0.72691993\n",
      " 0.6629902  0.68198529 0.64419935 0.62152778 0.6439951  0.66319444\n",
      " 0.67544935 0.63705065 0.64603758 0.65890523 0.65870098 0.67790033\n",
      " 0.63194444 0.63112745 0.62785948 0.64767157 0.63991013 0.63480392\n",
      " 0.63868464 0.62336601 0.62745098 0.63970588 0.64705882 0.66196895\n",
      " 0.67075163 0.65196078 0.63112745 0.61294935 0.6376634  0.62254902\n",
      " 0.62745098 0.63337418 0.62642974 0.63623366 0.58312908 0.57781863\n",
      " 0.57230392 0.58006536 0.57618464 0.55167484 0.57883987 0.625\n",
      " 0.63582516 0.62949346 0.62888072 0.62765523 0.62234477 0.63378268\n",
      " 0.62622549 0.62214052 0.62418301 0.58308208 0.56738794 0.54294038\n",
      " 0.51746994 0.49494717 0.4762055  0.46064124 0.44739679 0.43580958\n",
      " 0.42544645 0.41602769 0.40736908 0.39935866 0.39194244 0.38510945\n",
      " 0.37887073 0.37323835 0.3682096  0.36375877]\n",
      "19 day output [[0.35983655]]\n",
      "20 day input [0.74673203 0.75490196 0.76041667 0.75980392 0.74652778 0.76245915\n",
      " 0.77062908 0.80412582 0.78104575 0.79411765 0.76021242 0.73488562\n",
      " 0.72406046 0.73999183 0.74979575 0.76143791 0.75428922 0.74754902\n",
      " 0.76960784 0.7495915  0.81719771 0.80208333 0.77736928 0.75714869\n",
      " 0.79370915 0.79166667 0.77144608 0.75265523 0.72691993 0.6629902\n",
      " 0.68198529 0.64419935 0.62152778 0.6439951  0.66319444 0.67544935\n",
      " 0.63705065 0.64603758 0.65890523 0.65870098 0.67790033 0.63194444\n",
      " 0.63112745 0.62785948 0.64767157 0.63991013 0.63480392 0.63868464\n",
      " 0.62336601 0.62745098 0.63970588 0.64705882 0.66196895 0.67075163\n",
      " 0.65196078 0.63112745 0.61294935 0.6376634  0.62254902 0.62745098\n",
      " 0.63337418 0.62642974 0.63623366 0.58312908 0.57781863 0.57230392\n",
      " 0.58006536 0.57618464 0.55167484 0.57883987 0.625      0.63582516\n",
      " 0.62949346 0.62888072 0.62765523 0.62234477 0.63378268 0.62622549\n",
      " 0.62214052 0.62418301 0.58308208 0.56738794 0.54294038 0.51746994\n",
      " 0.49494717 0.4762055  0.46064124 0.44739679 0.43580958 0.42544645\n",
      " 0.41602769 0.40736908 0.39935866 0.39194244 0.38510945 0.37887073\n",
      " 0.37323835 0.3682096  0.36375877 0.35983655]\n",
      "20 day output [[0.3563748]]\n",
      "21 day input [0.75490196 0.76041667 0.75980392 0.74652778 0.76245915 0.77062908\n",
      " 0.80412582 0.78104575 0.79411765 0.76021242 0.73488562 0.72406046\n",
      " 0.73999183 0.74979575 0.76143791 0.75428922 0.74754902 0.76960784\n",
      " 0.7495915  0.81719771 0.80208333 0.77736928 0.75714869 0.79370915\n",
      " 0.79166667 0.77144608 0.75265523 0.72691993 0.6629902  0.68198529\n",
      " 0.64419935 0.62152778 0.6439951  0.66319444 0.67544935 0.63705065\n",
      " 0.64603758 0.65890523 0.65870098 0.67790033 0.63194444 0.63112745\n",
      " 0.62785948 0.64767157 0.63991013 0.63480392 0.63868464 0.62336601\n",
      " 0.62745098 0.63970588 0.64705882 0.66196895 0.67075163 0.65196078\n",
      " 0.63112745 0.61294935 0.6376634  0.62254902 0.62745098 0.63337418\n",
      " 0.62642974 0.63623366 0.58312908 0.57781863 0.57230392 0.58006536\n",
      " 0.57618464 0.55167484 0.57883987 0.625      0.63582516 0.62949346\n",
      " 0.62888072 0.62765523 0.62234477 0.63378268 0.62622549 0.62214052\n",
      " 0.62418301 0.58308208 0.56738794 0.54294038 0.51746994 0.49494717\n",
      " 0.4762055  0.46064124 0.44739679 0.43580958 0.42544645 0.41602769\n",
      " 0.40736908 0.39935866 0.39194244 0.38510945 0.37887073 0.37323835\n",
      " 0.3682096  0.36375877 0.35983655 0.3563748 ]\n",
      "21 day output [[0.35329512]]\n",
      "22 day input [0.76041667 0.75980392 0.74652778 0.76245915 0.77062908 0.80412582\n",
      " 0.78104575 0.79411765 0.76021242 0.73488562 0.72406046 0.73999183\n",
      " 0.74979575 0.76143791 0.75428922 0.74754902 0.76960784 0.7495915\n",
      " 0.81719771 0.80208333 0.77736928 0.75714869 0.79370915 0.79166667\n",
      " 0.77144608 0.75265523 0.72691993 0.6629902  0.68198529 0.64419935\n",
      " 0.62152778 0.6439951  0.66319444 0.67544935 0.63705065 0.64603758\n",
      " 0.65890523 0.65870098 0.67790033 0.63194444 0.63112745 0.62785948\n",
      " 0.64767157 0.63991013 0.63480392 0.63868464 0.62336601 0.62745098\n",
      " 0.63970588 0.64705882 0.66196895 0.67075163 0.65196078 0.63112745\n",
      " 0.61294935 0.6376634  0.62254902 0.62745098 0.63337418 0.62642974\n",
      " 0.63623366 0.58312908 0.57781863 0.57230392 0.58006536 0.57618464\n",
      " 0.55167484 0.57883987 0.625      0.63582516 0.62949346 0.62888072\n",
      " 0.62765523 0.62234477 0.63378268 0.62622549 0.62214052 0.62418301\n",
      " 0.58308208 0.56738794 0.54294038 0.51746994 0.49494717 0.4762055\n",
      " 0.46064124 0.44739679 0.43580958 0.42544645 0.41602769 0.40736908\n",
      " 0.39935866 0.39194244 0.38510945 0.37887073 0.37323835 0.3682096\n",
      " 0.36375877 0.35983655 0.3563748  0.35329512]\n",
      "22 day output [[0.35051653]]\n",
      "23 day input [0.75980392 0.74652778 0.76245915 0.77062908 0.80412582 0.78104575\n",
      " 0.79411765 0.76021242 0.73488562 0.72406046 0.73999183 0.74979575\n",
      " 0.76143791 0.75428922 0.74754902 0.76960784 0.7495915  0.81719771\n",
      " 0.80208333 0.77736928 0.75714869 0.79370915 0.79166667 0.77144608\n",
      " 0.75265523 0.72691993 0.6629902  0.68198529 0.64419935 0.62152778\n",
      " 0.6439951  0.66319444 0.67544935 0.63705065 0.64603758 0.65890523\n",
      " 0.65870098 0.67790033 0.63194444 0.63112745 0.62785948 0.64767157\n",
      " 0.63991013 0.63480392 0.63868464 0.62336601 0.62745098 0.63970588\n",
      " 0.64705882 0.66196895 0.67075163 0.65196078 0.63112745 0.61294935\n",
      " 0.6376634  0.62254902 0.62745098 0.63337418 0.62642974 0.63623366\n",
      " 0.58312908 0.57781863 0.57230392 0.58006536 0.57618464 0.55167484\n",
      " 0.57883987 0.625      0.63582516 0.62949346 0.62888072 0.62765523\n",
      " 0.62234477 0.63378268 0.62622549 0.62214052 0.62418301 0.58308208\n",
      " 0.56738794 0.54294038 0.51746994 0.49494717 0.4762055  0.46064124\n",
      " 0.44739679 0.43580958 0.42544645 0.41602769 0.40736908 0.39935866\n",
      " 0.39194244 0.38510945 0.37887073 0.37323835 0.3682096  0.36375877\n",
      " 0.35983655 0.3563748  0.35329512 0.35051653]\n",
      "23 day output [[0.3479631]]\n",
      "24 day input [0.74652778 0.76245915 0.77062908 0.80412582 0.78104575 0.79411765\n",
      " 0.76021242 0.73488562 0.72406046 0.73999183 0.74979575 0.76143791\n",
      " 0.75428922 0.74754902 0.76960784 0.7495915  0.81719771 0.80208333\n",
      " 0.77736928 0.75714869 0.79370915 0.79166667 0.77144608 0.75265523\n",
      " 0.72691993 0.6629902  0.68198529 0.64419935 0.62152778 0.6439951\n",
      " 0.66319444 0.67544935 0.63705065 0.64603758 0.65890523 0.65870098\n",
      " 0.67790033 0.63194444 0.63112745 0.62785948 0.64767157 0.63991013\n",
      " 0.63480392 0.63868464 0.62336601 0.62745098 0.63970588 0.64705882\n",
      " 0.66196895 0.67075163 0.65196078 0.63112745 0.61294935 0.6376634\n",
      " 0.62254902 0.62745098 0.63337418 0.62642974 0.63623366 0.58312908\n",
      " 0.57781863 0.57230392 0.58006536 0.57618464 0.55167484 0.57883987\n",
      " 0.625      0.63582516 0.62949346 0.62888072 0.62765523 0.62234477\n",
      " 0.63378268 0.62622549 0.62214052 0.62418301 0.58308208 0.56738794\n",
      " 0.54294038 0.51746994 0.49494717 0.4762055  0.46064124 0.44739679\n",
      " 0.43580958 0.42544645 0.41602769 0.40736908 0.39935866 0.39194244\n",
      " 0.38510945 0.37887073 0.37323835 0.3682096  0.36375877 0.35983655\n",
      " 0.3563748  0.35329512 0.35051653 0.34796309]\n",
      "24 day output [[0.3455689]]\n",
      "25 day input [0.76245915 0.77062908 0.80412582 0.78104575 0.79411765 0.76021242\n",
      " 0.73488562 0.72406046 0.73999183 0.74979575 0.76143791 0.75428922\n",
      " 0.74754902 0.76960784 0.7495915  0.81719771 0.80208333 0.77736928\n",
      " 0.75714869 0.79370915 0.79166667 0.77144608 0.75265523 0.72691993\n",
      " 0.6629902  0.68198529 0.64419935 0.62152778 0.6439951  0.66319444\n",
      " 0.67544935 0.63705065 0.64603758 0.65890523 0.65870098 0.67790033\n",
      " 0.63194444 0.63112745 0.62785948 0.64767157 0.63991013 0.63480392\n",
      " 0.63868464 0.62336601 0.62745098 0.63970588 0.64705882 0.66196895\n",
      " 0.67075163 0.65196078 0.63112745 0.61294935 0.6376634  0.62254902\n",
      " 0.62745098 0.63337418 0.62642974 0.63623366 0.58312908 0.57781863\n",
      " 0.57230392 0.58006536 0.57618464 0.55167484 0.57883987 0.625\n",
      " 0.63582516 0.62949346 0.62888072 0.62765523 0.62234477 0.63378268\n",
      " 0.62622549 0.62214052 0.62418301 0.58308208 0.56738794 0.54294038\n",
      " 0.51746994 0.49494717 0.4762055  0.46064124 0.44739679 0.43580958\n",
      " 0.42544645 0.41602769 0.40736908 0.39935866 0.39194244 0.38510945\n",
      " 0.37887073 0.37323835 0.3682096  0.36375877 0.35983655 0.3563748\n",
      " 0.35329512 0.35051653 0.34796309 0.3455689 ]\n",
      "25 day output [[0.34328118]]\n",
      "26 day input [0.77062908 0.80412582 0.78104575 0.79411765 0.76021242 0.73488562\n",
      " 0.72406046 0.73999183 0.74979575 0.76143791 0.75428922 0.74754902\n",
      " 0.76960784 0.7495915  0.81719771 0.80208333 0.77736928 0.75714869\n",
      " 0.79370915 0.79166667 0.77144608 0.75265523 0.72691993 0.6629902\n",
      " 0.68198529 0.64419935 0.62152778 0.6439951  0.66319444 0.67544935\n",
      " 0.63705065 0.64603758 0.65890523 0.65870098 0.67790033 0.63194444\n",
      " 0.63112745 0.62785948 0.64767157 0.63991013 0.63480392 0.63868464\n",
      " 0.62336601 0.62745098 0.63970588 0.64705882 0.66196895 0.67075163\n",
      " 0.65196078 0.63112745 0.61294935 0.6376634  0.62254902 0.62745098\n",
      " 0.63337418 0.62642974 0.63623366 0.58312908 0.57781863 0.57230392\n",
      " 0.58006536 0.57618464 0.55167484 0.57883987 0.625      0.63582516\n",
      " 0.62949346 0.62888072 0.62765523 0.62234477 0.63378268 0.62622549\n",
      " 0.62214052 0.62418301 0.58308208 0.56738794 0.54294038 0.51746994\n",
      " 0.49494717 0.4762055  0.46064124 0.44739679 0.43580958 0.42544645\n",
      " 0.41602769 0.40736908 0.39935866 0.39194244 0.38510945 0.37887073\n",
      " 0.37323835 0.3682096  0.36375877 0.35983655 0.3563748  0.35329512\n",
      " 0.35051653 0.34796309 0.3455689  0.34328118]\n",
      "26 day output [[0.34106112]]\n",
      "27 day input [0.80412582 0.78104575 0.79411765 0.76021242 0.73488562 0.72406046\n",
      " 0.73999183 0.74979575 0.76143791 0.75428922 0.74754902 0.76960784\n",
      " 0.7495915  0.81719771 0.80208333 0.77736928 0.75714869 0.79370915\n",
      " 0.79166667 0.77144608 0.75265523 0.72691993 0.6629902  0.68198529\n",
      " 0.64419935 0.62152778 0.6439951  0.66319444 0.67544935 0.63705065\n",
      " 0.64603758 0.65890523 0.65870098 0.67790033 0.63194444 0.63112745\n",
      " 0.62785948 0.64767157 0.63991013 0.63480392 0.63868464 0.62336601\n",
      " 0.62745098 0.63970588 0.64705882 0.66196895 0.67075163 0.65196078\n",
      " 0.63112745 0.61294935 0.6376634  0.62254902 0.62745098 0.63337418\n",
      " 0.62642974 0.63623366 0.58312908 0.57781863 0.57230392 0.58006536\n",
      " 0.57618464 0.55167484 0.57883987 0.625      0.63582516 0.62949346\n",
      " 0.62888072 0.62765523 0.62234477 0.63378268 0.62622549 0.62214052\n",
      " 0.62418301 0.58308208 0.56738794 0.54294038 0.51746994 0.49494717\n",
      " 0.4762055  0.46064124 0.44739679 0.43580958 0.42544645 0.41602769\n",
      " 0.40736908 0.39935866 0.39194244 0.38510945 0.37887073 0.37323835\n",
      " 0.3682096  0.36375877 0.35983655 0.3563748  0.35329512 0.35051653\n",
      " 0.34796309 0.3455689  0.34328118 0.34106112]\n",
      "27 day output [[0.3388832]]\n",
      "28 day input [0.78104575 0.79411765 0.76021242 0.73488562 0.72406046 0.73999183\n",
      " 0.74979575 0.76143791 0.75428922 0.74754902 0.76960784 0.7495915\n",
      " 0.81719771 0.80208333 0.77736928 0.75714869 0.79370915 0.79166667\n",
      " 0.77144608 0.75265523 0.72691993 0.6629902  0.68198529 0.64419935\n",
      " 0.62152778 0.6439951  0.66319444 0.67544935 0.63705065 0.64603758\n",
      " 0.65890523 0.65870098 0.67790033 0.63194444 0.63112745 0.62785948\n",
      " 0.64767157 0.63991013 0.63480392 0.63868464 0.62336601 0.62745098\n",
      " 0.63970588 0.64705882 0.66196895 0.67075163 0.65196078 0.63112745\n",
      " 0.61294935 0.6376634  0.62254902 0.62745098 0.63337418 0.62642974\n",
      " 0.63623366 0.58312908 0.57781863 0.57230392 0.58006536 0.57618464\n",
      " 0.55167484 0.57883987 0.625      0.63582516 0.62949346 0.62888072\n",
      " 0.62765523 0.62234477 0.63378268 0.62622549 0.62214052 0.62418301\n",
      " 0.58308208 0.56738794 0.54294038 0.51746994 0.49494717 0.4762055\n",
      " 0.46064124 0.44739679 0.43580958 0.42544645 0.41602769 0.40736908\n",
      " 0.39935866 0.39194244 0.38510945 0.37887073 0.37323835 0.3682096\n",
      " 0.36375877 0.35983655 0.3563748  0.35329512 0.35051653 0.34796309\n",
      " 0.3455689  0.34328118 0.34106112 0.33888319]\n",
      "28 day output [[0.33673298]]\n",
      "29 day input [0.79411765 0.76021242 0.73488562 0.72406046 0.73999183 0.74979575\n",
      " 0.76143791 0.75428922 0.74754902 0.76960784 0.7495915  0.81719771\n",
      " 0.80208333 0.77736928 0.75714869 0.79370915 0.79166667 0.77144608\n",
      " 0.75265523 0.72691993 0.6629902  0.68198529 0.64419935 0.62152778\n",
      " 0.6439951  0.66319444 0.67544935 0.63705065 0.64603758 0.65890523\n",
      " 0.65870098 0.67790033 0.63194444 0.63112745 0.62785948 0.64767157\n",
      " 0.63991013 0.63480392 0.63868464 0.62336601 0.62745098 0.63970588\n",
      " 0.64705882 0.66196895 0.67075163 0.65196078 0.63112745 0.61294935\n",
      " 0.6376634  0.62254902 0.62745098 0.63337418 0.62642974 0.63623366\n",
      " 0.58312908 0.57781863 0.57230392 0.58006536 0.57618464 0.55167484\n",
      " 0.57883987 0.625      0.63582516 0.62949346 0.62888072 0.62765523\n",
      " 0.62234477 0.63378268 0.62622549 0.62214052 0.62418301 0.58308208\n",
      " 0.56738794 0.54294038 0.51746994 0.49494717 0.4762055  0.46064124\n",
      " 0.44739679 0.43580958 0.42544645 0.41602769 0.40736908 0.39935866\n",
      " 0.39194244 0.38510945 0.37887073 0.37323835 0.3682096  0.36375877\n",
      " 0.35983655 0.3563748  0.35329512 0.35051653 0.34796309 0.3455689\n",
      " 0.34328118 0.34106112 0.33888319 0.33673298]\n",
      "29 day output [[0.33460504]]\n",
      "[[0.5830820798873901], [0.5673879384994507], [0.5429403781890869], [0.5174699425697327], [0.4949471652507782], [0.4762054979801178], [0.4606412351131439], [0.44739678502082825], [0.43580958247184753], [0.42544645071029663], [0.416027694940567], [0.40736907720565796], [0.3993586599826813], [0.39194244146347046], [0.38510945439338684], [0.37887072563171387], [0.37323835492134094], [0.3682096004486084], [0.36375877261161804], [0.35983654856681824], [0.3563748002052307], [0.35329511761665344], [0.35051652789115906], [0.3479630947113037], [0.3455688953399658], [0.34328117966651917], [0.3410611152648926], [0.3388831913471222], [0.33673298358917236], [0.33460503816604614]]\n"
     ]
    }
   ],
   "source": [
    "lst_output=[] #predicted 30 days output\n",
    "n_steps=100\n",
    "i=0\n",
    "while(i<30): #for 30 days-change according to the number of days you want\n",
    "    \n",
    "    if(len(temp_input)>100):\n",
    "        #print(temp_input)\n",
    "        pred_input=np.array(temp_input[1:]) # for last 100 data\n",
    "        print(\"{} day input {}\".format(i,pred_input))\n",
    "        pred_input=pred_input.reshape(1,-1)\n",
    "        pred_input = pred_input.reshape((1, n_steps, 1))\n",
    "        #print(x_input)\n",
    "        day_output = model.predict(pred_input, verbose=0)\n",
    "        print(\"{} day output {}\".format(i,day_output))\n",
    "        temp_input.extend(day_output[0].tolist())\n",
    "        temp_input=temp_input[1:]\n",
    "        #print(temp_input)\n",
    "        lst_output.extend(day_output.tolist())\n",
    "        i=i+1\n",
    "    else:\n",
    "        pred_input = pred_input.reshape((1, n_steps,1))\n",
    "        day_output = model.predict(pred_input, verbose=0)\n",
    "        print(day_output[0])\n",
    "        temp_input.extend(day_output[0].tolist())\n",
    "        print(len(temp_input))\n",
    "        lst_output.extend(day_output.tolist())\n",
    "        i=i+1\n",
    "    \n",
    "\n",
    "print(lst_output)"
   ]
  },
  {
   "cell_type": "markdown",
   "metadata": {},
   "source": [
    "- lst_output = []: This is an empty list that will be used to store the predicted outputs for the next 30 days.\n",
    "\n",
    "- n_steps = 100: This variable represents the number of time steps (previous time points) used as input to make a prediction. It should be the same as the look_back value used earlier in the code.\n",
    "\n",
    "- i = 0: This is the loop counter, initialized to 0. The loop will iterate 30 times, representing the 30 days for which you want to make predictions.\n",
    "\n",
    "- The while loop: This loop is used to make predictions for the next 30 days. The loop starts with a condition i < 30, so it will execute 30 times. You can change this condition to make predictions for a different number of days.\n",
    "\n",
    "- if len(temp_input) > 100:: This if statement checks if the length of temp_input is greater than 100. If it is, it means we have enough data points to create an input sequence of length 100 for prediction. If not, we use the existing data points to create a sequence.\n",
    "\n",
    "- pred_input = np.array(temp_input[1:]): For cases where len(temp_input) > 100, this line creates the input sequence pred_input for making a prediction. It takes the last 100 data points from temp_input, excluding the first one.\n",
    "\n",
    "- pred_input = pred_input.reshape(1, -1): This line reshapes the input sequence pred_input into a 2D array with a single row and multiple columns. The number of columns is inferred based on the size of the original data.\n",
    "\n",
    "- pred_input = pred_input.reshape((1, n_steps, 1)): This reshapes the pred_input array into a 3D array with dimensions (1, n_steps, 1). The LSTM model expects input data in this 3D format, where the first dimension is the batch size (in this case, 1), the second dimension is the number of time steps (n_steps), and the third dimension is the number of features (in this case, 1, as we have a single feature, which is the 'Close' price).\n",
    "\n",
    "- day_output = model.predict(pred_input, verbose=0): The model's predict method is used to make predictions based on the input sequence pred_input for the next day.\n",
    "\n",
    "- temp_input.extend(day_output[0].tolist()): The predicted output for the next day (day_output) is added to the temp_input list, effectively updating it for the next iteration and making it ready for the next prediction.\n",
    "\n",
    "- temp_input = temp_input[1:]: The first element of temp_input is removed to maintain the sliding window of size 100 for the next prediction.\n",
    "\n",
    "- lst_output.extend(day_output.tolist()): The predicted output for the next day (day_output) is added to the lst_output list to store the predicted outputs for the next 30 days.\n",
    "\n",
    "- i = i + 1: The loop counter is incremented to move to the next iteration.\n",
    "\n",
    "- After the loop finishes, the list lst_output will contain the predicted outputs for the next 30 days (or the specified number of days). These outputs are in the form of nested lists, where each inner list represents the predicted value for a specific day. The loop repeatedly uses the most recent 100 data points as input to the the model to predict the next day's output and then extends the input sequence with the predicted output for the next iteration. This process is repeated 30 times to obtain predictions for the next 30 days."
   ]
  },
  {
   "cell_type": "markdown",
   "metadata": {},
   "source": [
    "#### Ploting last 130 days Closing Price"
   ]
  },
  {
   "cell_type": "code",
   "execution_count": 43,
   "metadata": {},
   "outputs": [],
   "source": [
    "day_new = np.arange(1,101)\n",
    "day_pred = np.arange(101,131)"
   ]
  },
  {
   "cell_type": "code",
   "execution_count": 44,
   "metadata": {},
   "outputs": [
    {
     "data": {
      "text/plain": [
       "2035"
      ]
     },
     "execution_count": 44,
     "metadata": {},
     "output_type": "execute_result"
    }
   ],
   "source": [
    "len(close_stock_df)"
   ]
  },
  {
   "cell_type": "code",
   "execution_count": 52,
   "metadata": {},
   "outputs": [
    {
     "data": {
      "image/png": "[encoded data removed]",
      "text/plain": [
       "<Figure size 720x504 with 1 Axes>"
      ]
     },
     "metadata": {
      "needs_background": "light"
     },
     "output_type": "display_data"
    }
   ],
   "source": [
    "plt.figure(figsize=(10, 7))\n",
    "plt.plot(day_new, scaler.inverse_transform(close_stock_df[1935:]), label='True Close Prices', color='blue')\n",
    "plt.plot(day_pred, scaler.inverse_transform(lst_output), label='Predicted Close Prices', color='red')\n",
    "plt.xlabel('Time Step')\n",
    "plt.ylabel('Close Price')\n",
    "plt.title('True and Predicted Stock Close Prices')\n",
    "plt.legend()\n",
    "plt.show()"
   ]
  },
  {
   "cell_type": "markdown",
   "metadata": {},
   "source": [
    "- day_new: This variable is an array of integers representing the time steps or indices for the last 100 days of the original close prices. The np.arange(1, 101) function generates an array of integers from 1 to 100 (both inclusive), representing the time steps for the last 100 days.\n",
    "\n",
    "- day_pred: This variable is an array of integers representing the time steps or indices for the predicted close prices. The np.arange(101, 131) function generates an array of integers from 101 to 130 (both inclusive), representing the time steps for the next 30 days (or the specified number of days) for which we have predictions.\n",
    "\n",
    "- scaler.inverse_transform(close_stock_df[1935:]): In this part, you are using the scaler object's inverse_transform method to convert the normalized true (original) close prices from the given data range [1935:] back to their original scale. The data from index 1935 (inclusive) to the end of close_stock_df is considered as the true close prices. Since the length of close_stock_df is 2035, this means you are plotting the true close prices from index 1935 to 2034 (a total of 100 data points).\n",
    "\n",
    "- plt.plot(day_new, scaler.inverse_transform(close_stock_df[1935:]), label='True Close Prices', color='blue'): This line plots the true (original) close prices against the corresponding time steps (day_new) in blue. The label argument provides a label for this line, which will be used later in the legend.\n",
    "\n",
    "- plt.plot(day_pred, scaler.inverse_transform(lst_output), label='Predicted Close Prices', color='red'): This line plots the predicted close prices against the corresponding time steps (day_pred) in red. The label argument provides a label for this line, which will be used later in the legend.\n",
    "\n",
    "\n"
   ]
  },
  {
   "cell_type": "markdown",
   "metadata": {},
   "source": [
    "#### Appending in a list is done to make continuous graph"
   ]
  },
  {
   "cell_type": "code",
   "execution_count": 46,
   "metadata": {},
   "outputs": [],
   "source": [
    "df3=close_stock_df.tolist()\n",
    "#adding specified list of predicted 30 days output to the end of last 100 days output\n",
    "df3.extend(lst_output)"
   ]
  },
  {
   "cell_type": "markdown",
   "metadata": {},
   "source": [
    "- df3 is a Python list that initially contains the true (original) close prices for the last 100 days from the close_stock_df dataset. The list is then extended by appending the predicted 30 days' output (lst_output) to the end. This extension is performed to create a continuous graph that shows the true close prices for the last 100 days followed by the predicted close prices for the next 30 days.\n",
    "\n",
    "- close_stock_df.tolist(): This converts the Pandas DataFrame close_stock_df (which contains the true close prices) into a Python list. The tolist() method is used to convert the DataFrame's column into a list."
   ]
  },
  {
   "cell_type": "code",
   "execution_count": 47,
   "metadata": {},
   "outputs": [
    {
     "name": "stdout",
     "output_type": "stream",
     "text": [
      "2065\n"
     ]
    }
   ],
   "source": [
    "print(len(df3))"
   ]
  },
  {
   "cell_type": "markdown",
   "metadata": {},
   "source": [
    "2035 + 30 new prdicted = 2065"
   ]
  },
  {
   "cell_type": "code",
   "execution_count": 48,
   "metadata": {},
   "outputs": [
    {
     "data": {
      "text/plain": [
       "[<matplotlib.lines.Line2D at 0x1b979cb71f0>]"
      ]
     },
     "execution_count": 48,
     "metadata": {},
     "output_type": "execute_result"
    },
    {
     "data": {
      "image/png": "[encoded data removed]",
      "text/plain": [
       "<Figure size 720x504 with 1 Axes>"
      ]
     },
     "metadata": {
      "needs_background": "light"
     },
     "output_type": "display_data"
    }
   ],
   "source": [
    "plt.figure(figsize=(10,7))\n",
    "plt.plot(df3[1935:]) #latest 100 days output"
   ]
  },
  {
   "cell_type": "markdown",
   "metadata": {},
   "source": [
    "- df3[1935:]: This part of the code slices the df3 list to extract the data for the last 100 days (or more, depending on the length of df3). It starts from index 1935 (inclusive) to the end of the list. As previously mentioned, df3 is a continuous list containing both the true close prices for the last 100 days and the predicted close prices for the next 30 days (or the specified number of days). Therefore, by using the slicing notation [1935:], you are selecting the elements from index 1935 to the end of the list, which corresponds to the latest 100 days' output."
   ]
  },
  {
   "cell_type": "markdown",
   "metadata": {},
   "source": [
    "#### Plotting the graph with predicted 30 days output"
   ]
  },
  {
   "cell_type": "code",
   "execution_count": 49,
   "metadata": {},
   "outputs": [],
   "source": [
    "df3=scaler.inverse_transform(df3).tolist() #undoing scaling of df3"
   ]
  },
  {
   "cell_type": "code",
   "execution_count": 50,
   "metadata": {},
   "outputs": [
    {
     "data": {
      "text/plain": [
       "[<matplotlib.lines.Line2D at 0x1b979c83a00>]"
      ]
     },
     "execution_count": 50,
     "metadata": {},
     "output_type": "execute_result"
    },
    {
     "data": {
      "image/png": "[encoded data removed]",
      "text/plain": [
       "<Figure size 720x504 with 1 Axes>"
      ]
     },
     "metadata": {
      "needs_background": "light"
     },
     "output_type": "display_data"
    }
   ],
   "source": [
    "plt.figure(figsize=(10,7))\n",
    "plt.plot(df3)"
   ]
  },
  {
   "cell_type": "markdown",
   "metadata": {},
   "source": [
    "- In the provided code, plotting the entire time series of the combined data, which includes both the true (original) close prices for the last 100 days and the predicted close prices for the next 30 days (or the specified number of days)\n",
    "\n",
    "- scaler.inverse_transform(df3): This line uses the scaler object's inverse_transform method to convert the scaled data in df3 back to its original scale. Recall that df3 contains the true close prices for the last 100 days followed by the predicted close prices for the next 30 days (or the specified number of days). By applying inverse_transform, the scaled values are reverted to their original scale.\n",
    "\n",
    "- tolist(): After undoing the scaling, the result is converted back to a Python list. This ensures that the data is in a list format, ready for plotting.\n",
    "\n",
    "- df3: This variable now represents the Python list containing the entire time series with both the true (original) close prices for the last 100 days and the predicted close prices for the next 30 days (or the specified number of days).\n",
    "\n"
   ]
  }
 ],
 "metadata": {
  "kernelspec": {
   "display_name": "Python 3",
   "language": "python",
   "name": "python3"
  },
  "language_info": {
   "codemirror_mode": {
    "name": "ipython",
    "version": 3
   },
   "file_extension": ".py",
   "mimetype": "text/x-python",
   "name": "python",
   "nbconvert_exporter": "python",
   "pygments_lexer": "ipython3",
   "version": "3.9.0"
  },
  "orig_nbformat": 4
 },
 "nbformat": 4,
 "nbformat_minor": 2
}
